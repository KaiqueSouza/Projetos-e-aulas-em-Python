{
  "nbformat": 4,
  "nbformat_minor": 0,
  "metadata": {
    "colab": {
      "provenance": [],
      "authorship_tag": "ABX9TyMXmKL2Ex3Wl0/GZENacxcK",
      "include_colab_link": true
    },
    "kernelspec": {
      "name": "python3",
      "display_name": "Python 3"
    },
    "language_info": {
      "name": "python"
    }
  },
  "cells": [
    {
      "cell_type": "markdown",
      "metadata": {
        "id": "view-in-github",
        "colab_type": "text"
      },
      "source": [
        "<a href=\"https://colab.research.google.com/github/KaiqueSouza/Projetos-e-aulas-em-Python/blob/main/Exercicios%201.ipynb\" target=\"_parent\"><img src=\"https://colab.research.google.com/assets/colab-badge.svg\" alt=\"Open In Colab\"/></a>"
      ]
    },
    {
      "cell_type": "markdown",
      "source": [
        "EXERCÍCIO 1"
      ],
      "metadata": {
        "id": "qls3qg5qBR6z"
      }
    },
    {
      "cell_type": "code",
      "source": [
        "#\tCrie um algoritmo que receba um valor em metros e converta para centímetros\n",
        "\n",
        "valor1 = float(input(\"\\n Digite um valor metrico: \")) #ou diretamente com INT\n",
        "\n",
        "resultado1 = valor1 * 100\n",
        "\n",
        "print(\"\\n O valor dessa metrica em centimetros é: \", resultado1)"
      ],
      "metadata": {
        "colab": {
          "base_uri": "https://localhost:8080/"
        },
        "id": "5stzGtaYBSfL",
        "outputId": "cdbeaa6d-8835-45bd-e84a-063bba320e2c"
      },
      "execution_count": null,
      "outputs": [
        {
          "output_type": "stream",
          "name": "stdout",
          "text": [
            "\n",
            " Digite um valor metrico: 1.55\n",
            "\n",
            " O valor dessa metrica em centimetros é:  155.0\n"
          ]
        }
      ]
    },
    {
      "cell_type": "markdown",
      "source": [
        "EXERCÍCIO 2"
      ],
      "metadata": {
        "id": "Kr4ALWkNDChz"
      }
    },
    {
      "cell_type": "code",
      "source": [
        "# Crie um algoritmo que pergunte quanto você ganha por hora e o número de horas que você trabalha por mês, o algoritmo deve calcular e mostrar qual seu salário naquele mês\n",
        "\n",
        "val_horas2 = float(input(\"\\n Quanto voce ganha por hora: \"))\n",
        "horas2 = float(input(\"\\n Quantas horas por dia voce trabalha: \"))\n",
        "dias2 = float(input(\"\\n Quantos dias voce trabalha no mes: \"))\n",
        "\n",
        "horas_dia2 = val_horas2 * horas2   \n",
        "resultado2 = horas_dia2 * dias2\n",
        "\n",
        "print(\"\\n Você recebe\", resultado2, \"reais por mês.\")"
      ],
      "metadata": {
        "colab": {
          "base_uri": "https://localhost:8080/"
        },
        "id": "yl-8_wotDETD",
        "outputId": "8ed99859-1829-44a7-ee76-38064c9b8521"
      },
      "execution_count": null,
      "outputs": [
        {
          "output_type": "stream",
          "name": "stdout",
          "text": [
            "\n",
            " Quanto voce ganha por hora: 20\n",
            "\n",
            " Quantas horas por dia voce trabalha: 9\n",
            "\n",
            " Quantos dias voce trabalha no mes: 20\n",
            "\n",
            " Você recebe 3600 reais por mês.\n"
          ]
        }
      ]
    },
    {
      "cell_type": "markdown",
      "source": [
        "EXERCÍCIO 3"
      ],
      "metadata": {
        "id": "CWK2VoYGGNBs"
      }
    },
    {
      "cell_type": "code",
      "source": [
        "# Crie um algoritmo que receba uma temperatura em Fahrenheit e converta para Celsius\n",
        "\n",
        "temp_fahr = float(input(\"\\n Indique a temperatura em Fahrenheit:\"))\n",
        "\n",
        "temp_celc = 5 * ((temp_fahr - 32) / 9)\n",
        "\n",
        "print(\"\\n o resultado da converção será: {:.1f}\".format (temp_celc))"
      ],
      "metadata": {
        "colab": {
          "base_uri": "https://localhost:8080/"
        },
        "id": "yxln-txjGPP8",
        "outputId": "9bd02b9b-ad7d-4923-c27c-92e7ffcc29bc"
      },
      "execution_count": null,
      "outputs": [
        {
          "output_type": "stream",
          "name": "stdout",
          "text": [
            "\n",
            " Indique a temperatura em Fahrenheit:38.8\n",
            "\n",
            " o resultado da converção será: 3.8\n"
          ]
        }
      ]
    },
    {
      "cell_type": "markdown",
      "source": [
        "EXERCÍCIO 4"
      ],
      "metadata": {
        "id": "WfE7uMXoH3le"
      }
    },
    {
      "cell_type": "code",
      "source": [
        "#\tCrie um algoritmo que receba a altura e o peso de uma pessoa e mostre seu Índice de Massa Corporal (IMC)\n",
        "\n",
        "altura_usuario = float(input(\"\\n Digite sua altura em metros: \"))\n",
        "peso_usuario = float(input(\"\\n Digite sue peso: \"))\n",
        "\n",
        "imc = peso_usuario / altura_usuario**2\n",
        "\n",
        "print(\"\\n  - - Sua media é: {:.1f}\".format(imc), \" - -\") \n"
      ],
      "metadata": {
        "colab": {
          "base_uri": "https://localhost:8080/"
        },
        "id": "2JujdYIYH5JP",
        "outputId": "980bc62c-2738-41bd-a36d-08ffbad73d0d"
      },
      "execution_count": null,
      "outputs": [
        {
          "output_type": "stream",
          "name": "stdout",
          "text": [
            "\n",
            " Digite sua altura em metros: 1.9\n",
            "\n",
            " Digite sue peso: 110\n",
            "\n",
            "  - - Sua media é: 30.5  - -\n"
          ]
        }
      ]
    },
    {
      "cell_type": "markdown",
      "source": [
        "EXERCÍCIO 5"
      ],
      "metadata": {
        "id": "K6qmnJvOKrtH"
      }
    },
    {
      "cell_type": "code",
      "source": [
        "# Se peso chegar acima de 30 kilos soma + 3 reais por kilo\n",
        "\n",
        "peso = int(input(\"\\n Qual o peso dos peixes: \"))\n",
        "kg_ex = peso - 30\n",
        "\n",
        "if kg_ex > 0:\n",
        " multa = kg_ex * 3\n",
        " print(\"\\n O valor da multa peso excedente a pagar é:\", multa)\n",
        "else:\n",
        "  print(\"\\n Não pagará multa por peso excedente\")\n"
      ],
      "metadata": {
        "colab": {
          "base_uri": "https://localhost:8080/"
        },
        "id": "vr2ZBLfaKuCV",
        "outputId": "fe484f01-08f1-44e4-db0f-17213dce7860"
      },
      "execution_count": null,
      "outputs": [
        {
          "output_type": "stream",
          "name": "stdout",
          "text": [
            "\n",
            " Qual o peso dos peixes: 20\n",
            "\n",
            " Não pagará multa por excedente\n"
          ]
        }
      ]
    },
    {
      "cell_type": "markdown",
      "source": [
        "EXERCÍCIO 6"
      ],
      "metadata": {
        "id": "Nvp-l4w5Nu-W"
      }
    },
    {
      "cell_type": "code",
      "source": [
        "# O algoritmo deve calcular e mostrar o seu salário no referido mês, sabendo que serão descontados 11% do Imposto de Renda (IR) e mais 8% do INSS. No final o algoritmo deve apresentar\n",
        "\n",
        "val_horas3 = float(input(\"\\n Quanto você ganha por hora: \"))\n",
        "horas3 = float(input(\"\\n Quantas horas por dia voce trabalha: \"))\n",
        "dias3 = float(input(\"\\n Quantos dias você trabalha no mes: \"))\n",
        "\n",
        "horas_dia3 = val_horas3 * horas3\n",
        "bruto = horas_dia3 * dias3\n",
        "\n",
        "imposto = bruto * 0.11\n",
        "inss = bruto * 0.08\n",
        "\n",
        "result = inss + imposto\n",
        "liquido = bruto - result\n",
        "\n",
        "print(\"\\n - - - - - - - - \")\n",
        "print(\"\\n Seu salário bruto é: \", bruto)\n",
        "print(\"\\n Você paga\", imposto,\"em impostos\")\n",
        "print(\"\\n Você paga\", inss, \"em INSS\")\n",
        "print(\"\\n Seu salário liquido é: \", liquido)\n",
        "\n"
      ],
      "metadata": {
        "colab": {
          "base_uri": "https://localhost:8080/"
        },
        "id": "YPhQDiiYNw_2",
        "outputId": "17ac404c-4cb5-47f5-f5ca-3f8da369d8bc"
      },
      "execution_count": null,
      "outputs": [
        {
          "output_type": "stream",
          "name": "stdout",
          "text": [
            "\n",
            " Quanto você ganha por hora: 2\n",
            "\n",
            " Quantas horas por dia voce trabalha: 8.8\n",
            "\n",
            " Quantos dias você trabalha no mes: 10\n",
            "\n",
            " - - - - - - - - \n",
            "\n",
            " Seu salario bruto é:  176.0\n",
            "\n",
            " Você paga 19.36 em impostos\n",
            "\n",
            " Você paga 14.08 em INSS\n",
            "\n",
            " seu salario liquido é:  142.56\n"
          ]
        }
      ]
    },
    {
      "cell_type": "markdown",
      "source": [
        "EXERCÍCIO 7"
      ],
      "metadata": {
        "id": "jRqxsuMDR2ne"
      }
    },
    {
      "cell_type": "code",
      "source": [
        "# Loja de tintas, pedir o tamanho em metros quadrados da área a ser pintada, cobertura da tinta é de 1 litro para cada 3 metros quadrados e que a tinta é vendida em latas de 18 litros, que custam R$ 80,00.\n",
        "# Informe ao usuário a quantidades de latas de tinta a serem compradas e o preço total.\n",
        "\n",
        "\n",
        "metros = int(input(\"\\n Indique em metros quadrados a area que será pintada: \"))\n",
        "\n",
        "litros = metros * 6\n",
        "latas = litros / 18 \n",
        "preco =  latas * 80 \n",
        "\n",
        "print(\"\\n Será necessario comprar: {:.0f}\".format(latas), \"latas\")\n",
        "print(\"\\n O custo será de: {:.1f}\".format(preco), \"reais\")\n",
        "\n",
        "\n"
      ],
      "metadata": {
        "id": "yYUjwspTR4SW",
        "colab": {
          "base_uri": "https://localhost:8080/"
        },
        "outputId": "5de24ed6-3e0b-4a9d-bb50-c25d91c8617f"
      },
      "execution_count": 13,
      "outputs": [
        {
          "output_type": "stream",
          "name": "stdout",
          "text": [
            "\n",
            " Indique em metros quadrados a area que será pintada: 3\n",
            "\n",
            " Será necessario comprar: 1 latas\n",
            "\n",
            " O custo será de: 80.0 reais\n"
          ]
        }
      ]
    }
  ]
}