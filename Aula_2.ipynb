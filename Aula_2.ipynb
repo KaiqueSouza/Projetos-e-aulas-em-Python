{
  "nbformat": 4,
  "nbformat_minor": 0,
  "metadata": {
    "colab": {
      "provenance": [],
      "authorship_tag": "ABX9TyMOBXggJaXO4I8IY6iWD2Aa",
      "include_colab_link": true
    },
    "kernelspec": {
      "name": "python3",
      "display_name": "Python 3"
    },
    "language_info": {
      "name": "python"
    }
  },
  "cells": [
    {
      "cell_type": "markdown",
      "metadata": {
        "id": "view-in-github",
        "colab_type": "text"
      },
      "source": [
        "<a href=\"https://colab.research.google.com/github/KaiqueSouza/Projetos-e-aulas-em-Python/blob/main/Aula_2.ipynb\" target=\"_parent\"><img src=\"https://colab.research.google.com/assets/colab-badge.svg\" alt=\"Open In Colab\"/></a>"
      ]
    },
    {
      "cell_type": "code",
      "execution_count": 36,
      "metadata": {
        "colab": {
          "base_uri": "https://localhost:8080/"
        },
        "id": "IQ-skZckA6bW",
        "outputId": "e10df499-4be9-4568-9020-fc7a29eee33d"
      },
      "outputs": [
        {
          "output_type": "stream",
          "name": "stdout",
          "text": [
            "\n",
            " Qual a temperatura? 20\n",
            "\n",
            " Está chovendo? sim\n",
            "\n",
            " Levar agasalho e guarda chuva\n"
          ]
        }
      ],
      "source": [
        "#se chovendo pega guarda chuva, se temperatura abaixo da media pega agasalho\n",
        "\n",
        "if int(input(\"\\n Qual a temperatura? \")) <= 20 and str(input(\"\\n Está chovendo? \")) == (\"sim\"):\n",
        " print(\"\\n Levar agasalho e guarda chuva\")\n",
        "else:\n",
        "  print(\"\\n Não precisa de agasalho e guarda chuva\")\n"
      ]
    }
  ]
}