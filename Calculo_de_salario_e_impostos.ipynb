{
  "nbformat": 4,
  "nbformat_minor": 0,
  "metadata": {
    "colab": {
      "provenance": [],
      "authorship_tag": "ABX9TyM8/+mBEims9Ietua4zDFKq",
      "include_colab_link": true
    },
    "kernelspec": {
      "name": "python3",
      "display_name": "Python 3"
    },
    "language_info": {
      "name": "python"
    }
  },
  "cells": [
    {
      "cell_type": "markdown",
      "metadata": {
        "id": "view-in-github",
        "colab_type": "text"
      },
      "source": [
        "<a href=\"https://colab.research.google.com/github/KaiqueSouza/Projetos-e-aulas-em-Python/blob/main/Calculo_de_salario_e_impostos.ipynb\" target=\"_parent\"><img src=\"https://colab.research.google.com/assets/colab-badge.svg\" alt=\"Open In Colab\"/></a>"
      ]
    },
    {
      "cell_type": "code",
      "execution_count": null,
      "metadata": {
        "colab": {
          "base_uri": "https://localhost:8080/"
        },
        "id": "v3o0M3rH3Wpo",
        "outputId": "c3bf4fc3-b34d-4fa2-afce-c6cda534adbd"
      },
      "outputs": [
        {
          "output_type": "stream",
          "name": "stdout",
          "text": [
            "\n",
            " Quanto você ganha por hora: 30\n",
            "\n",
            " Quantas horas por dia você trabalha: 12\n",
            "\n",
            " Quantos dias você trabalha no mês: 10\n",
            "\n",
            " \n",
            " - Resultados - \n",
            "\n",
            " Seu salário bruto é:  3600.0\n",
            "\n",
            " Você pagou 540.0 em imposto de renda\n",
            "\n",
            " Você pagou 877.25 em INSS\n",
            "\n",
            " Seu salário liquido é: 2182.75\n"
          ]
        }
      ],
      "source": [
        "val_horas = float(input(\"\\n Quanto você ganha por hora: \")) \n",
        "horas = float(input(\"\\n Quantas horas por dia você trabalha: \")) #buscar dados para gerar o salario bruto \n",
        "dias = float(input(\"\\n Quantos dias você trabalha no mês: \"))\n",
        "\n",
        "horas_dia = val_horas * horas\n",
        "bruto = horas_dia * dias  #calcular o valor bruto\n",
        "\n",
        "if bruto <= 1903.98: #indetificar por tabela de IR\n",
        " pro_impo = 0\n",
        "elif bruto > 1903.98 and bruto < 2826.65 or bruto == 2826.65: #sem and e or (if 2826.65 >= bruto >= 2826.65)\n",
        " pro_impo = 7.5\n",
        "elif bruto > 2826.65 and bruto < 3751.05 or bruto == 3751.05: \n",
        " pro_impo = 15\n",
        "elif bruto > 3751.05 and bruto < 4664.68 or bruto == 4664.68:\n",
        " pro_impo = 22.5\n",
        "else:\n",
        "  pro_impo = 27.5\n",
        "\n",
        "imposto = (bruto * pro_impo) / 100\n",
        "\n",
        "if imposto > 869.36: #teto para IR (limitar e trocar valor da variavel para o valor do teto)\n",
        " imposto = 869.36\n",
        "\n",
        "\n",
        "if bruto <= 1300: #identificar por tabela de INSS\n",
        "  pro_inss = 5\n",
        "elif bruto > 1300 and bruto < 2571.29 or bruto == 2571.29:\n",
        "  pro_inss = 7.5\n",
        "elif bruto > 2571.29 and bruto < 3856.94 or bruto == 3856.94:\n",
        "  pro_inss = 9\n",
        "elif bruto > 3856.94 and bruto < 7508.49 or bruto == 7508.49:\n",
        "  pro_inss = 12\n",
        "else:\n",
        "  pro_inss = 15\n",
        "\n",
        "inss = (bruto * pro_inss) / 10 #calcular antes para verificar no if se valor passou de 877.25, se nao continua o valor calculado antes\n",
        "\n",
        "if inss > 877.25:  #teto para INSS (limitar e trocar valor da variavel para o valor do teto)\n",
        "  inss = 877.25\n",
        "\n",
        "result = inss + imposto\n",
        "liquido = bruto - result #gerar salario liquido (bruto - impostos)\n",
        "\n",
        "print(\"\\n \\n - Resultados - \") #dar as respotas dos calculos e verificações\n",
        "print(\"\\n Seu salário bruto é: \", bruto)\n",
        "print(\"\\n Você pagou\", imposto,\"em imposto de renda\")\n",
        "print(\"\\n Você pagou\", inss, \"em INSS\")\n",
        "print(\"\\n Seu salário liquido é: {:.2f}\".format(liquido))"
      ]
    }
  ]
}