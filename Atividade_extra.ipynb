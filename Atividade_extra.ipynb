{
  "nbformat": 4,
  "nbformat_minor": 0,
  "metadata": {
    "colab": {
      "provenance": [],
      "authorship_tag": "ABX9TyN1bpOPU3O86XTDqyVGPecx",
      "include_colab_link": true
    },
    "kernelspec": {
      "name": "python3",
      "display_name": "Python 3"
    },
    "language_info": {
      "name": "python"
    }
  },
  "cells": [
    {
      "cell_type": "markdown",
      "metadata": {
        "id": "view-in-github",
        "colab_type": "text"
      },
      "source": [
        "<a href=\"https://colab.research.google.com/github/KaiqueSouza/Projetos-e-aulas-em-Python/blob/main/Atividade_extra.ipynb\" target=\"_parent\"><img src=\"https://colab.research.google.com/assets/colab-badge.svg\" alt=\"Open In Colab\"/></a>"
      ]
    },
    {
      "cell_type": "markdown",
      "source": [
        "Kaique de Queiroz Souza  1°BCC Turma B"
      ],
      "metadata": {
        "id": "nyaCdGNHR84y"
      }
    },
    {
      "cell_type": "markdown",
      "source": [
        "#Exemplos de WHILE:"
      ],
      "metadata": {
        "id": "E6GUx5B1Npvw"
      }
    },
    {
      "cell_type": "markdown",
      "source": [
        "#EX 1:"
      ],
      "metadata": {
        "id": "DtkuoXdrD4ck"
      }
    },
    {
      "cell_type": "code",
      "execution_count": null,
      "metadata": {
        "id": "HqGwGUJPMmvz"
      },
      "outputs": [],
      "source": [
        "#calcular media recebendo notas de uma quantidade dada de provas\n",
        "\n",
        "provas = int(input(\"\\n Digite o numero de provas: \"))\n",
        "\n",
        "num = 0 #valor para repedir o loop até alcançar a quantidade de provas\n",
        "todas = 0 \n",
        "\n",
        "print(\"\\n - - - - - - - - - - - - - - -\")\n",
        "\n",
        "while num < provas:\n",
        " num = num + 1 #somando até chegar no numero de provas\n",
        " notas = float(input(\"\\n Digite a nota desta prova: \"))\n",
        " todas = todas + notas #soma a nova nota, armazena em \"todas\" junto com os valores anteriores\n",
        "\n",
        "media1 =  todas / provas #calculo da media\n",
        "print(\"\\n\", media1)\n",
        "\n",
        "print(\"\\n - - - - - - - - - - - - - - -\")\n",
        "\n",
        "if media1 >= 7:\n",
        "  print(\"\\n Aluno Aprovado\")\n",
        "elif media1 > 5 and media1 < 7: #verificar se foi aprovado, recuperação ou reprovado com o valor da media\n",
        "  print(\"\\n Aluno em Recuperação\")\n",
        "else: \n",
        "  print(\"\\n Aluno Reprovado\")"
      ]
    },
    {
      "cell_type": "markdown",
      "source": [
        "#EX 2:"
      ],
      "metadata": {
        "id": "rjmB3BmkD7mr"
      }
    },
    {
      "cell_type": "code",
      "source": [
        "#calcular o volume aproximado da quantidade de caixas oferecidas\n",
        "\n",
        "quant_caixas = int(input(\"\\n Digite a quatidade de caixas 2x2x2: \"))\n",
        "\n",
        "quant = 0 \n",
        "\n",
        "while quant < quant_caixas:  #verifica se abaixo do numero de caixas dadas\n",
        "  quant = quant + 1 #soma uma unidade até chegar ao numero de caixas\n",
        "  medida = quant_caixas * 2 * 2 * 2 #calcula o volume que ficaram no estoque\n",
        "\n",
        "print(\"\\n As caixa ocuparão um espaco aproximado de:\", medida,\"³\", \"metros cubicos no estoque\")\n",
        "\n"
      ],
      "metadata": {
        "colab": {
          "base_uri": "https://localhost:8080/"
        },
        "id": "Na_GY3AtN4LQ",
        "outputId": "fb727fd6-544e-4f6f-a7e6-d34dc98c8151"
      },
      "execution_count": null,
      "outputs": [
        {
          "output_type": "stream",
          "name": "stdout",
          "text": [
            "\n",
            " Digite a quatidade de caixas 2x2x2: 2\n",
            "\n",
            " As caixa ocuparão um espaco aproximado de: 16 ³ metros cubicos no estoque\n"
          ]
        }
      ]
    },
    {
      "cell_type": "markdown",
      "source": [
        "#EX 3:"
      ],
      "metadata": {
        "id": "hV38-J0yD9pL"
      }
    },
    {
      "cell_type": "code",
      "source": [
        "#gera um numero aleatorio e usuario adivinha\n",
        "\n",
        "''' #ideia utilizando fução\n",
        "from random import randint #achei um gerador de numeros \"aleatorios\", rand int, retorna um int (aleatorio)\n",
        "\n",
        "def numero_aleatorio(): #def é função\n",
        "  aleatorio = randint(1,50) #limita a escolher de 1 a 50\n",
        "\n",
        "  while aleatorio != chute: #enquanto diferente, continua a perguntar\n",
        "  chute = int(input(\"\\n Digite um valor entre 1 e 50: \"))          #trocar função por soma, adicionar o numero de jogadas\n",
        "\n",
        "    if (aleatorio == chute):\n",
        "      print(\"\\n - Acertou - \")\n",
        "      print(\"\\n Numero de jogadas\")\n",
        "\n",
        "    elif chute > aleatorio:\n",
        "     print(\"\\n Tente denovo, numero mais baixo\")\n",
        "\n",
        "    elif chute < aleatorio:\n",
        "     print(\"\\n Tente denovo, numero mais alto\")\n",
        "\n",
        "    else:\n",
        "      print(\"\\n Tente denovo\")\n",
        "\n",
        "numero_aleatorio(jogadas)\n",
        "'''\n",
        "import random \n",
        "\n",
        "#consegui fazer sem função\n",
        "numero = random.randint(1, 50) #gera numero aleatorio entre 1 e 50\n",
        "jogadas = 0  #tentativas\n",
        "chute = 0\n",
        "\n",
        "while chute != numero: #enquanto for diferente\n",
        "    chute = int(input(\"Adivinhe o numero: \"))   #config\n",
        "    jogadas = jogadas + 1 \n",
        "\n",
        "    if chute == numero:\n",
        "      print(\"\\n Acertou, numero:\", numero, \"\\n\", \"jogadas:\", jogadas)\n",
        "\n",
        "    elif chute < numero:\n",
        "      print(\"\\n Mais alto\")\n",
        "\n",
        "    else:\n",
        "      print(\"\\n Mais baixo\")\n"
      ],
      "metadata": {
        "colab": {
          "base_uri": "https://localhost:8080/"
        },
        "id": "eS-DNAUHXaHV",
        "outputId": "d300f243-635e-4aff-a5b3-6580bf2a1343"
      },
      "execution_count": null,
      "outputs": [
        {
          "output_type": "stream",
          "name": "stdout",
          "text": [
            "Adivinhe o numero: 5\n",
            "\n",
            " Mais alto\n",
            "Adivinhe o numero: 45\n",
            "\n",
            " Mais baixo\n",
            "Adivinhe o numero: 30\n",
            "\n",
            " Mais alto\n",
            "Adivinhe o numero: 33\n",
            "\n",
            " Mais alto\n",
            "Adivinhe o numero: 39\n",
            "\n",
            " Acertou: 39 \n",
            " jogadas: 5\n"
          ]
        }
      ]
    },
    {
      "cell_type": "markdown",
      "source": [
        "#Exemplos com FOR:"
      ],
      "metadata": {
        "id": "kol8Xn3jGMDz"
      }
    },
    {
      "cell_type": "markdown",
      "source": [
        "#EX 1:"
      ],
      "metadata": {
        "id": "s0Ia7Qj7GTaS"
      }
    },
    {
      "cell_type": "code",
      "source": [
        "#mostra os numeros apartir de zero até chegar no valor dado\n",
        "\n",
        "num2 = int(input(\"\\n Digite um valor: \")) \n",
        "\n",
        "for x in range(num2): # mostra numero por linha até chegar no numero dado\n",
        "  print(x)\n",
        "else:\n",
        "  print(num2) # so para mostrar o ultimo\n"
      ],
      "metadata": {
        "colab": {
          "base_uri": "https://localhost:8080/"
        },
        "id": "JHke0__XGoSj",
        "outputId": "afb2d28e-a49a-4a8e-efb8-92effa84da35"
      },
      "execution_count": null,
      "outputs": [
        {
          "output_type": "stream",
          "name": "stdout",
          "text": [
            "Digite um valor: 8\n",
            "0\n",
            "1\n",
            "2\n",
            "3\n",
            "4\n",
            "5\n",
            "6\n",
            "7\n",
            "8\n"
          ]
        }
      ]
    },
    {
      "cell_type": "markdown",
      "source": [],
      "metadata": {
        "id": "0nwIJ_9DPbMp"
      }
    },
    {
      "cell_type": "markdown",
      "source": [
        "#EX 2:"
      ],
      "metadata": {
        "id": "XFkug90WJBJK"
      }
    },
    {
      "cell_type": "code",
      "source": [
        "#gera uma combinação de bebidas para cada item de uma lista com a outra\n",
        "\n",
        "alcool = [\"Licor\", \"Ice\", \"Vodka\", \"Whiskey\"]\n",
        "base = [\"com refrigerante\", \"com suco\", \"puro\", \"com energetico\"]     #achei um exemplo parecido no w3school, ainda não entendi muito bem a logica desse\n",
        "\n",
        "\n",
        "for x in alcool: #cada item da lista 1         # primeira lista como base, 1 item com todos da base 2, . . .\n",
        "  for y in base: #cada item da lista 2\n",
        "    print(x, y) #combina os 2, item por item"
      ],
      "metadata": {
        "id": "pBpvCqufJDiK",
        "colab": {
          "base_uri": "https://localhost:8080/"
        },
        "outputId": "ae7a4f21-c9f8-45f5-85b3-155e969c6642"
      },
      "execution_count": 6,
      "outputs": [
        {
          "output_type": "stream",
          "name": "stdout",
          "text": [
            "Licor com refrigerante\n",
            "Licor com suco\n",
            "Licor puro\n",
            "Licor com energetico\n",
            "Ice com refrigerante\n",
            "Ice com suco\n",
            "Ice puro\n",
            "Ice com energetico\n",
            "Vodka com refrigerante\n",
            "Vodka com suco\n",
            "Vodka puro\n",
            "Vodka com energetico\n",
            "Whiskey com refrigerante\n",
            "Whiskey com suco\n",
            "Whiskey puro\n",
            "Whiskey com energetico\n"
          ]
        }
      ]
    },
    {
      "cell_type": "markdown",
      "source": [
        "#EX 3:"
      ],
      "metadata": {
        "id": "2L0xaVQwJ5Ik"
      }
    },
    {
      "cell_type": "code",
      "source": [
        "#recebe uma palavra e separa ela por linha\n",
        "\n",
        "palavra = str(input(\"\\n Digite uma palavra para separar:\"))\n",
        "\n",
        "for letra in palavra: \n",
        " print(letra)"
      ],
      "metadata": {
        "colab": {
          "base_uri": "https://localhost:8080/"
        },
        "id": "8aVAQV55PhqB",
        "outputId": "67769f72-2227-412c-8972-fdc6e4b8103d"
      },
      "execution_count": 11,
      "outputs": [
        {
          "output_type": "stream",
          "name": "stdout",
          "text": [
            "Digite uma palavra para separar:paralelepipedo quadrangular\n",
            "p\n",
            "a\n",
            "r\n",
            "a\n",
            "l\n",
            "e\n",
            "l\n",
            "e\n",
            "p\n",
            "i\n",
            "p\n",
            "e\n",
            "d\n",
            "o\n",
            " \n",
            "q\n",
            "u\n",
            "a\n",
            "d\n",
            "r\n",
            "a\n",
            "n\n",
            "g\n",
            "u\n",
            "l\n",
            "a\n",
            "r\n"
          ]
        }
      ]
    }
  ]
}