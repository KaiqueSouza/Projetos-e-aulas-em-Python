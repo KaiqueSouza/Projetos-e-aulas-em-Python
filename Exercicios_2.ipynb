{
  "nbformat": 4,
  "nbformat_minor": 0,
  "metadata": {
    "colab": {
      "provenance": [],
      "authorship_tag": "ABX9TyOTIYfwrSIXkCG89FGqtiA0",
      "include_colab_link": true
    },
    "kernelspec": {
      "name": "python3",
      "display_name": "Python 3"
    },
    "language_info": {
      "name": "python"
    }
  },
  "cells": [
    {
      "cell_type": "markdown",
      "metadata": {
        "id": "view-in-github",
        "colab_type": "text"
      },
      "source": [
        "<a href=\"https://colab.research.google.com/github/KaiqueSouza/Projetos-e-aulas-em-Python/blob/main/Exercicios_2.ipynb\" target=\"_parent\"><img src=\"https://colab.research.google.com/assets/colab-badge.svg\" alt=\"Open In Colab\"/></a>"
      ]
    },
    {
      "cell_type": "markdown",
      "source": [
        "1.\tAtividade 1:"
      ],
      "metadata": {
        "id": "BvVPBcGq9FNz"
      }
    },
    {
      "cell_type": "code",
      "execution_count": null,
      "metadata": {
        "colab": {
          "base_uri": "https://localhost:8080/"
        },
        "id": "DanbSLx49B81",
        "outputId": "84e09aa1-14b7-4746-86d8-7a5e9ccdb757"
      },
      "outputs": [
        {
          "output_type": "stream",
          "name": "stdout",
          "text": [
            "\n",
            " Digite sua idade: 19\n",
            "\n",
            " Você é maior de idade\n"
          ]
        }
      ],
      "source": [
        "#Faça um programa que receba a idade de uma pessoa e diga se ele é maior de idade ou não.\n",
        "\n",
        "idade = int(input(\"\\n Digite sua idade: \"))\n",
        "if idade >= 18:\n",
        "  print(\"\\n Você é maior de idade\")\n",
        "else:\n",
        "  print(\"\\n Você é menor de idade\")"
      ]
    },
    {
      "cell_type": "markdown",
      "source": [
        "Atividade 2:"
      ],
      "metadata": {
        "id": "H4nvJVhY-GGT"
      }
    },
    {
      "cell_type": "code",
      "source": [
        "#Faça um programa que receba uma temperatura em Celsius e converta para Fahrenheit ou Kelvin, de acordo com a escolha do usuário\n",
        "\n",
        "#ideia principal\n",
        "''' \n",
        "escolha = str(input(\"Qual a medida de conversão sera utilizada (Fahrenheit ou Kelvin): \"))\n",
        "celsius = float(input(\"\\n Digite a temperatura em celsius que deseja converter: \"))\n",
        "\n",
        "if escolha == str(\"Fahrenheit\") or str(\"fahrenheit\"):\n",
        " fahren = celsius * (9 / 5) + 32\n",
        " print(\"\\n Celsius para Fahrenheit: \", fahren)\n",
        "elif escolha == str(\"Kelvin\") or str(\"kelvin\"):                   \n",
        " kelvin = celsius + 263.0\n",
        " print(\"\\n Celsius para Kelvin: \", kelvin)\n",
        "else:\n",
        "  print(\"\\n Nome de medida invalida\")\n",
        "'''\n",
        "\n",
        "#com int ao invez de puxar uma string com o nome da medida\n",
        "escolha = int(input(\"\\n Deseja converter para fahrenheit = 1 ou para kelvin = 2, digite o numero respectivo: \"))\n",
        "celsius = float(input(\"\\n Digite a temperatura em celsius que deseja converter: \"))\n",
        "\n",
        "if escolha == 1:\n",
        " fahren = celsius * (9 / 5) + 32\n",
        " print(\"\\n Celsius para Fahrenheit: \", fahren)\n",
        "elif escolha == 2:                   \n",
        " kelvin = celsius + 263.0\n",
        " print(\"\\n Celsius para Kelvin: \", kelvin)\n",
        "else:\n",
        "  print(\"\\n Numero de medida invalida\")\n",
        "\n"
      ],
      "metadata": {
        "colab": {
          "base_uri": "https://localhost:8080/"
        },
        "id": "LO-EHEHE-Hqr",
        "outputId": "00c0fe0e-30ee-408a-bc55-c178371fba8d"
      },
      "execution_count": null,
      "outputs": [
        {
          "output_type": "stream",
          "name": "stdout",
          "text": [
            "Deseja converter para fahrenheit = 1 ou para kelvin = 2, digite o numero respectivo: 1\n",
            "\n",
            " Digite a temperatura em celsius que deseja converter: 55\n",
            "\n",
            " Celsius para Fahrenheit:  131.0\n"
          ]
        }
      ]
    },
    {
      "cell_type": "markdown",
      "source": [
        "Atividade 3:"
      ],
      "metadata": {
        "id": "a2r8XCtDDEqj"
      }
    },
    {
      "cell_type": "code",
      "source": [
        "#Faça um programa que receba um número e diga se ele é positivo, negativo ou zero.\n",
        "\n",
        "numero = int(input(\"\\n Digite um numero, para verificar sua naturalidade:\"))\n",
        "\n",
        "x =0\n",
        "y =0\n",
        "\n",
        "if numero == 0:\n",
        "  print(\"\\n Este numero é zero:\", numero)\n",
        "elif numero > 0:\n",
        "  print(\"\\n Este numero é positivo:\", numero)\n",
        "elif numero < 0:\n",
        "  print(\"\\n Este numero é negativo: \", numero)\n",
        "else:\n",
        "  print(\"\\n Qual numero ativou esta opição\")\n"
      ],
      "metadata": {
        "colab": {
          "base_uri": "https://localhost:8080/"
        },
        "id": "CZYrFfltDH_k",
        "outputId": "e84edf5f-54fa-43b2-c537-4b5d605405e4"
      },
      "execution_count": null,
      "outputs": [
        {
          "output_type": "stream",
          "name": "stdout",
          "text": [
            "\n",
            " Digite um numero, para verificar sua naturalidade:1\n",
            "\n",
            " Este numero é positivo: 1\n"
          ]
        }
      ]
    },
    {
      "cell_type": "markdown",
      "source": [
        "Atividade 4:"
      ],
      "metadata": {
        "id": "My1wAUvZFbVa"
      }
    },
    {
      "cell_type": "code",
      "source": [
        "#Faça um programa que receba o peso e a altura de uma pessoa, calcule o seu índice de massa corporal (IMC). Em seguida, diga em qual categoria de peso ela se encontra (abaixo do peso, peso normal, sobrepeso, obesidade grau 1, obesidade grau 2 ou obesidade grau 3).*\n",
        "\n",
        "altura = float(input(\"\\n Digite sua altura: \"))\n",
        "peso = float(input(\"\\n Digite sue peso: \"))\n",
        "\n",
        "imc = peso / altura**2\n",
        " \n",
        "print(\"\\n Seu IMC é: %.4f\" % imc)\n",
        "\n",
        "if imc < 17:\n",
        "  print(\"\\n Muito abaixo do peso\")\n",
        "elif imc > 17 and imc < 18.49 or imc == 17: \n",
        "  print(\"\\n Abaixo do peso\")\n",
        "elif imc > 18.49 and imc < 24.99:\n",
        "  print(\"\\n Peso normal\")\n",
        "elif imc > 25 and imc < 29.99:\n",
        "  print(\"\\n Acima do peso\")\n",
        "elif imc > 30 and imc < 34.99:\n",
        "  print(\"\\n Obesidade I\")\n",
        "elif imc > 35 and imc < 39.99:\n",
        "  print(\"\\n Obesidade II severa\")\n",
        "elif imc > 40:\n",
        "  print(\"\\n Obsidade III morbida\")\n",
        "else:\n",
        "  print(\"\\n Valor invalido\")\n"
      ],
      "metadata": {
        "colab": {
          "base_uri": "https://localhost:8080/"
        },
        "id": "0vrPyg9yFdYq",
        "outputId": "6257aec3-2ea6-49ba-bacf-cd40ddcbed35"
      },
      "execution_count": null,
      "outputs": [
        {
          "output_type": "stream",
          "name": "stdout",
          "text": [
            "\n",
            " Digite sua altura: 1.80\n",
            "\n",
            " Digite sue peso: 90\n",
            "\n",
            " Seu IMC é: 27.7778\n",
            "\n",
            " Acima do peso\n"
          ]
        }
      ]
    },
    {
      "cell_type": "markdown",
      "source": [
        "Atividade 5:"
      ],
      "metadata": {
        "id": "_AkRmsQaJ3A6"
      }
    },
    {
      "cell_type": "code",
      "source": [
        "#Faça um programa que receba três números e diga qual é o maior e qual é o menor.\n",
        "\n",
        "valor1 = int(input(\"\\n Digite o primeiro valor \"))\n",
        "valor2 = int(input(\"\\n Digite o segundo valor \"))\n",
        "valor3 = int(input(\"\\n Digite o terceiro valor \"))\n",
        "\n",
        "if valor1 > valor2 and valor1 > valor3:\n",
        " print(\"\\n O maior valor é\", valor1)\n",
        "elif valor2 > valor1 and valor2 > valor3:\n",
        " print(\"\\n O maior valor é\", valor2)\n",
        "elif valor3 > valor1 and valor3 > valor2:\n",
        " print(\"\\n O maior valor é\", valor3)\n",
        "elif valor1 == valor2 and valor2 == valor3:\n",
        " print(\"\\n São valores iguais\")\n",
        "else:\n",
        "  print(\"\\n Digite numeros validos\")"
      ],
      "metadata": {
        "colab": {
          "base_uri": "https://localhost:8080/"
        },
        "id": "4lX09O_eJ8Ly",
        "outputId": "360d4262-e7f7-4fe9-ee19-e9d529d919f7"
      },
      "execution_count": null,
      "outputs": [
        {
          "output_type": "stream",
          "name": "stdout",
          "text": [
            "\n",
            " Digite o primeiro valor 15\n",
            "\n",
            " Digite o segundo valor 10\n",
            "\n",
            " Digite o terceiro valor 10\n",
            "\n",
            " O maior valor é 15\n"
          ]
        }
      ]
    },
    {
      "cell_type": "markdown",
      "source": [
        "Atividade 6:"
      ],
      "metadata": {
        "id": "XxfmVsxXLPc6"
      }
    },
    {
      "cell_type": "code",
      "source": [
        "#Faça um programa que receba o ano de nascimento de uma pessoa e diga qual é a sua faixa etária (criança, adolescente, adulto ou idoso).\n",
        "\n",
        "'''\n",
        "•\t0 a 12 anos: criança;\n",
        "•\t13 a 17 anos: adolescente;\n",
        "•\t18 a 59 anos: adulto;\n",
        "•\tAcima de 59 anos: idoso.\n",
        "'''\n",
        "\n",
        "idade = int(input(\"\\n Digite sua idade: \"))\n",
        "\n",
        "if idade > 0 and idade <= 12:\n",
        "  print(\"\\n Crianca\")\n",
        "elif idade > 12 and idade <= 17:\n",
        "  print(\"\\n Adolescente\")\n",
        "elif idade >= 18 and idade <= 59:\n",
        "  print(\"\\n Adulto\")\n",
        "elif idade > 59 and idade < 150:\n",
        "  print(\"\\n Idoso\")\n",
        "else:\n",
        "  print(\"\\n Idade invalida, muito alta ou muito baixa\")"
      ],
      "metadata": {
        "colab": {
          "base_uri": "https://localhost:8080/"
        },
        "id": "Acfk67vwLR4a",
        "outputId": "ec99de0d-7cfb-43ac-aefc-a224c1dfa6e7"
      },
      "execution_count": null,
      "outputs": [
        {
          "output_type": "stream",
          "name": "stdout",
          "text": [
            "\n",
            " Digite sua idade: 19\n",
            "\n",
            " Adulto\n"
          ]
        }
      ]
    },
    {
      "cell_type": "markdown",
      "source": [
        "Atividade 7:"
      ],
      "metadata": {
        "id": "9rXoyBLsMRnp"
      }
    },
    {
      "cell_type": "code",
      "source": [
        "#Faça um programa que receba um número e diga se ele é par ou ímpar.\n",
        "\n",
        "numero1 = int(input(\"\\n Digite um numero: \"))\n",
        "\n",
        "if (numero1 % 2) == 0:\n",
        "  print(\"\\n Numero par\")\n",
        "else:\n",
        "  print(\"\\n Numero impar\")"
      ],
      "metadata": {
        "colab": {
          "base_uri": "https://localhost:8080/"
        },
        "id": "hIWEsBxpMURK",
        "outputId": "de7d723e-e93f-40d9-ee6d-ba778f5f9e3b"
      },
      "execution_count": null,
      "outputs": [
        {
          "output_type": "stream",
          "name": "stdout",
          "text": [
            "\n",
            " Digite um numero: 12\n",
            "Numero par\n"
          ]
        }
      ]
    },
    {
      "cell_type": "markdown",
      "source": [
        "Atividade 8:"
      ],
      "metadata": {
        "id": "Hv6KSY3DNe6L"
      }
    },
    {
      "cell_type": "code",
      "source": [
        "#Faça um programa que receba o salário de um funcionário e calcule o seu aumento de acordo com as seguintes regras: se o salário for menor ou igual a R$1.500,00, o aumento será de 15%; caso contrário, o aumento é de 10%.\n",
        "\n",
        "salario = float(input(\"\\n Digite seu salario: \"))\n",
        "\n",
        "if salario <= 1500:\n",
        "  aumento = salario * 0.15\n",
        "  result = salario + aumento\n",
        "else:\n",
        "  aumento = salario * 0.10\n",
        "  result = salario + aumento\n",
        "\n",
        "print(\"\\n Seu salario com aumento fica: \", result)\n"
      ],
      "metadata": {
        "colab": {
          "base_uri": "https://localhost:8080/"
        },
        "id": "LouJk10vNgmK",
        "outputId": "296e6ec6-8a99-47c6-f957-4113db9d3308"
      },
      "execution_count": null,
      "outputs": [
        {
          "output_type": "stream",
          "name": "stdout",
          "text": [
            "\n",
            " Digite seu salario: 2000\n",
            "\n",
            " Seu salario com aumento fica:  2200.0\n"
          ]
        }
      ]
    },
    {
      "cell_type": "markdown",
      "source": [
        "Atividade 9:"
      ],
      "metadata": {
        "id": "MY3Wnc0EOYeK"
      }
    },
    {
      "cell_type": "code",
      "source": [
        "#Faça um programa que receba a idade de uma pessoa e informe se ela pode votar nas eleições ou não.\n",
        "\n",
        "idade2 = int(input(\"\\n Digite a idade da pessoa: \"))\n",
        "\n",
        "if idade2 < 16:\n",
        "  print(\"\\n Não pode votar ainda\")\n",
        "elif idade2 == 16 or idade2 == 17:\n",
        "  print(\"\\n Pode votar caso queira\")\n",
        "elif idade2 >= 18 and idade2 < 70:\n",
        "  print(\"\\n É obrigado a votar\")\n",
        "elif idade2 >= 70:\n",
        "  print(\"\\n Pode votar caso apresente o titulo eleitoral regular\")\n",
        "else:\n",
        "  print(\"\\n Idade invalida\")"
      ],
      "metadata": {
        "colab": {
          "base_uri": "https://localhost:8080/"
        },
        "id": "-pqzk5GaOaYy",
        "outputId": "91030c6c-bc9f-41ea-cf55-3478aba1433e"
      },
      "execution_count": null,
      "outputs": [
        {
          "output_type": "stream",
          "name": "stdout",
          "text": [
            "\n",
            " Digite a idade da pessoa: 120\n",
            "\n",
            " Pode votar caso apresente o titulo eleitoral regular\n"
          ]
        }
      ]
    },
    {
      "cell_type": "markdown",
      "source": [
        "Atividade 10:"
      ],
      "metadata": {
        "id": "98cBYwRYQBgK"
      }
    },
    {
      "cell_type": "code",
      "source": [
        "#Faça um programa que receba três notas de um aluno e calcule a média aritmética dessas notas. Em seguida, verifique se a média é maior ou igual a 7. Se for, exiba a mensagem “Aprovado”. Caso contrário, verifique a média é maior ou igual a 5 e menor do que 7. Se for, exiba a mensagem “Recuperação”. Caso contrário, exiba a mensagem “Reprovado”. \n",
        "\n",
        "nota1 = float(input(\"\\n Digite a primeira nota a ser calculada: \"))\n",
        "nota2 = float(input(\"\\n Digite a segunda nota a ser calculada: \"))\n",
        "nota3 = float(input(\"\\n Digite a terceira nota a ser calculada: \"))\n",
        "\n",
        "tdsnotas = nota1 + nota2 + nota3\n",
        "media = tdsnotas / 3\n",
        "\n",
        "print(\"\\n Media: \", media)\n",
        "\n",
        "if media >= 7:\n",
        "  print(\"\\n Aprovado\")\n",
        "elif media >= 5 and media < 7:\n",
        "  print(\"\\n Recuperação\")\n",
        "else: \n",
        "  print(\"\\n Reprovado\")"
      ],
      "metadata": {
        "colab": {
          "base_uri": "https://localhost:8080/"
        },
        "id": "5ksrUw3lQDWC",
        "outputId": "76fd1bf9-a3d1-4f7a-b10a-0d541db8b980"
      },
      "execution_count": 3,
      "outputs": [
        {
          "output_type": "stream",
          "name": "stdout",
          "text": [
            "\n",
            " Digite a primeira nota a ser calculada: 8\n",
            "\n",
            " Digite a segunda nota a ser calculada: 3\n",
            "\n",
            " Digite a terceira nota a ser calculada: 10\n",
            "\n",
            " Media:  7.0\n",
            "\n",
            " Aprovado\n"
          ]
        }
      ]
    },
    {
      "cell_type": "markdown",
      "source": [
        "Extra:"
      ],
      "metadata": {
        "id": "GCkGOuHyTPsO"
      }
    },
    {
      "cell_type": "code",
      "source": [
        "#Mesma da 10 só que com um input de provas e utilizando while\n",
        "\n",
        "provas = int(input(\"\\n Digite o numero de provas: \"))\n",
        "\n",
        "num = 0\n",
        "todas = 0 \n",
        "\n",
        "print(\"\\n - - - - - - - - - - - - - - -\")\n",
        "\n",
        "while num < provas:\n",
        " num = num + 1\n",
        " notas = float(input(\"\\n Digite a nota desta prova: \"))\n",
        " todas = todas + notas #Soma a nova nota, armazena em \"todas\" junto com os valores anteriores\n",
        "\n",
        "media1 =  todas / provas\n",
        "print(\"\\n\", media1)\n",
        "\n",
        "print(\"\\n - - - - - - - - - - - - - - -\")\n",
        "\n",
        "if media1 >= 7:\n",
        "  print(\"\\n Aluno Aprovado\")\n",
        "elif media1 > 5 and media1 < 7:\n",
        "  print(\"\\n Aluno em Recuperação\")\n",
        "else: \n",
        "  print(\"\\n Aluno Reprovado\")\n",
        "\n"
      ],
      "metadata": {
        "colab": {
          "base_uri": "https://localhost:8080/"
        },
        "id": "2Fya8ErSTRMO",
        "outputId": "f0d2136a-6a57-469c-dc3d-20258d73ab90"
      },
      "execution_count": 23,
      "outputs": [
        {
          "output_type": "stream",
          "name": "stdout",
          "text": [
            "\n",
            " Digite o numero de provas: 5\n",
            "\n",
            " - - - - - - - - - - - - - - -\n",
            "\n",
            " Digite a nota desta prova: 10\n",
            "\n",
            " Digite a nota desta prova: 10\n",
            "\n",
            " Digite a nota desta prova: 2\n",
            "\n",
            " Digite a nota desta prova: 8\n",
            "\n",
            " Digite a nota desta prova: 5\n",
            "\n",
            " 7.0\n",
            "\n",
            " - - - - - - - - - - - - - - -\n",
            "\n",
            " Aluno Aprovado\n"
          ]
        }
      ]
    }
  ]
}