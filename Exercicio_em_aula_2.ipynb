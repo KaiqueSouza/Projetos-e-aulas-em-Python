{
  "nbformat": 4,
  "nbformat_minor": 0,
  "metadata": {
    "colab": {
      "provenance": [],
      "authorship_tag": "ABX9TyPgKIwKfq8VjFzg7AVPFBz0",
      "include_colab_link": true
    },
    "kernelspec": {
      "name": "python3",
      "display_name": "Python 3"
    },
    "language_info": {
      "name": "python"
    }
  },
  "cells": [
    {
      "cell_type": "markdown",
      "metadata": {
        "id": "view-in-github",
        "colab_type": "text"
      },
      "source": [
        "<a href=\"https://colab.research.google.com/github/KaiqueSouza/Projetos-e-aulas-em-Python/blob/main/Exercicio_em_aula_2.ipynb\" target=\"_parent\"><img src=\"https://colab.research.google.com/assets/colab-badge.svg\" alt=\"Open In Colab\"/></a>"
      ]
    },
    {
      "cell_type": "code",
      "execution_count": null,
      "metadata": {
        "colab": {
          "base_uri": "https://localhost:8080/"
        },
        "id": "aIsvo4h-2JaD",
        "outputId": "74271adb-509d-4343-9bb5-a4509302f3c0"
      },
      "outputs": [
        {
          "output_type": "stream",
          "name": "stdout",
          "text": [
            "Minecraft Tibia Diablo\n",
            "10 2 7\n",
            "\n",
            "\n",
            "Minecraft Tibia Diablo Fifa\n",
            "10 2 7 0\n",
            "\n",
            "\n",
            "Minecraft Tibia Fifa\n",
            "10 2 0\n",
            "\n",
            "\n",
            "Fifa Tibia Minecraft\n",
            "0 2 10\n",
            "\n",
            "\n",
            "For JHonor 3\n",
            "Minecraft 10\n",
            "Tibia 2\n",
            "Fifa 0\n"
          ]
        }
      ],
      "source": [
        "'''\n",
        "from types import FunctionType\n",
        "from typing import Reversible\n",
        "lista_jogos = ['Minecraft', 'Counter Strike', 'Tibia']\n",
        "lista_notas = [10, 9.5, 2]\n",
        "lista_jogos.append('Diablo')\n",
        "lista_notas.append(7)\n",
        "\n",
        "#lista_jogos.remove(lista_jogos[1])\n",
        "#lista_notas.remove(lista_notas[1])\n",
        "lista_jogos.pop(1)\n",
        "lista_notas.pop(1)\n",
        "\n",
        "print(*lista_jogos, sep=' ')\n",
        "print(*lista_notas, sep=' ')\n",
        "\n",
        "lista_jogos.append('Fifa')\n",
        "lista_notas.append(0)\n",
        "\n",
        "print('\\n')\n",
        "print(*lista_jogos, sep=' ')\n",
        "print(*lista_notas, sep=' ')\n",
        "\n",
        "lista_jogos.remove(lista_jogos[len(lista_jogos) -2])  #pop \n",
        "lista_notas.remove(lista_notas[len(lista_notas) -2]) #tira 2\n",
        "\n",
        "print('\\n')\n",
        "print(*lista_jogos, sep=' ')\n",
        "print(*lista_notas, sep=' ')\n",
        "\n",
        "lista_jogos.reverse() #reverte a lista\n",
        "lista_notas.reverse()\n",
        "\n",
        "print('\\n')\n",
        "print(*lista_jogos, sep=' ')\n",
        "print(*lista_notas, sep=' ')\n",
        "\n",
        "\n",
        "\n",
        "for lista_jogos in reversed(lista_jogos): \n",
        "  #print(lista_jogos)\n",
        "  for lista_notas in reversed(lista_notas):        #funciona com revert\n",
        "  #print(lista_notas)\n",
        "\n",
        "res = lista_jogos[::-1]                            #funciona com revert\n",
        "print(res) \n",
        "\n",
        "for lista_jogos in enumerate:\n",
        "  num =-1                                           #nao funciona\n",
        "   print(lista_jogos[num], lista_notas[num])\n",
        "\n",
        "\n",
        "num = len(lista_jogos)      #tamanho da lista\n",
        "print('\\n')\n",
        "while num:\n",
        "   num = num -1   #volta lista\n",
        "   print(lista_jogos[num], lista_notas[num])\n",
        "\n",
        "   #x = \"H\\u2082O\" H\\2082 (numero que fica menor subscript), \\H20   - \\u208\n",
        "'''"
      ]
    },
    {
      "cell_type": "code",
      "source": [
        "#pesqui range, input de notas e jogos (minimo 6), indicar menor, maior e media de notas, laco de repeticao\n",
        "#extra, separacao de notas, junto com jogos, \n",
        "#fazer um randonm no gatilho para rodar testes\n",
        "'''\n",
        "lista_jogos = []\n",
        "lista_notas = []\n",
        "soma = 0\n",
        "media = 0\n",
        "\n",
        "num = int(input(\"Digite o numero de jogos que deseja avaliar: \")) \n",
        "\n",
        "while num < 6:\n",
        "   num = int(input(\"Minimo de 6 jogos: \"))\n",
        "   \n",
        "for x in range(num):\n",
        "\n",
        "  jogos = input(\"\\nNome do jogo: \")\n",
        "  notas = input(\"Nota do jogo: \")\n",
        "  \n",
        "  lista_jogos.append(jogos)\n",
        "  lista_notas.append(notas)  \n",
        "  len(lista_notas)   \n",
        "  soma = notas + notas\n",
        "      \n",
        "print('\\n',*lista_jogos, sep=' ')\n",
        "print('\\n',*lista_notas, sep=' ')\n",
        "print(soma)\n",
        "print(media)\n",
        "'''"
      ],
      "metadata": {
        "id": "qmgGOnNMOHht"
      },
      "execution_count": null,
      "outputs": []
    },
    {
      "cell_type": "code",
      "source": [
        "#JOGO MELHOR/PIOR AVALIADO E MEDIA DAS NOTAS\n",
        "jogos = []\n",
        "notas = []\n",
        "\n",
        "for n in range(1, 6):\n",
        "  \n",
        "  jogos.append(input(f\"\\nDigite o jogo número {n} \"))\n",
        "  notas.append(float(input(\"Digite uma nota para este jogo: \")))"
      ],
      "metadata": {
        "colab": {
          "base_uri": "https://localhost:8080/"
        },
        "id": "AJQdfclMacx5",
        "outputId": "70c4cb0e-1d34-4f58-f173-875e681c401d"
      },
      "execution_count": null,
      "outputs": [
        {
          "name": "stdout",
          "output_type": "stream",
          "text": [
            "\n",
            "Digite o jogo número 1 Tha Lest Uf Os\n",
            "Digite uma nota para este jogo: 8\n",
            "\n",
            "Digite o jogo número 2 Gad fo Wor\n",
            "Digite uma nota para este jogo: 8\n",
            "\n",
            "Digite o jogo número 3 Fra fri\n",
            "Digite uma nota para este jogo: 7\n",
            "\n",
            "Digite o jogo número 4 Jai Z\n",
            "Digite uma nota para este jogo: 4\n",
            "\n",
            "Digite o jogo número 5 Betrafeild\n",
            "Digite uma nota para este jogo: 9\n"
          ]
        }
      ]
    },
    {
      "cell_type": "code",
      "source": [
        "print(jogos)\n",
        "print(notas)"
      ],
      "metadata": {
        "colab": {
          "base_uri": "https://localhost:8080/"
        },
        "id": "NHETX_8mas5a",
        "outputId": "41b9e651-899b-49f0-fc9d-b0ff28608991"
      },
      "execution_count": null,
      "outputs": [
        {
          "output_type": "stream",
          "name": "stdout",
          "text": [
            "['Tha Lest Uf Os', 'Gad fo Wor', 'Fra fri', 'Jai Z', 'Betrafeild']\n",
            "[8.0, 8.0, 7.0, 4.0, 9.0]\n"
          ]
        }
      ]
    },
    {
      "cell_type": "code",
      "source": [
        "menor = [0, notas[0]] #indice 0 = INDICE (MENOR) indice 1 = VALOR (MENOR)\n",
        "maior = [0, notas[0]] #indice 0 = INDICE (MAIOR) indice 1 = VALOR (MAIOR)\n",
        "media = 0\n",
        "\n",
        "for indice, jogo in enumerate(jogos):\n",
        "  print(notas[indice], menor[1])\n",
        "  if notas[indice] < menor[1]:\n",
        "    menor[0] = indice\n",
        "    menor[1] = notas[indice]  \n",
        "    \n",
        "  if indice == 6:\n",
        "    break"
      ],
      "metadata": {
        "colab": {
          "base_uri": "https://localhost:8080/"
        },
        "id": "9C_3QW3catQY",
        "outputId": "60fd4073-a742-4787-e62d-d16b36a9c66d"
      },
      "execution_count": null,
      "outputs": [
        {
          "output_type": "stream",
          "name": "stdout",
          "text": [
            "8.0 8.0\n",
            "8.0 8.0\n",
            "7.0 8.0\n",
            "4.0 7.0\n",
            "9.0 4.0\n"
          ]
        }
      ]
    },
    {
      "cell_type": "code",
      "source": [
        "\n",
        "  if notas[indice] > maior[1]:\n",
        "    maior[0] = indice\n",
        "    maior[1] = notas[indice]\n",
        "\n",
        "media += notas[indice]\n",
        "\n",
        "\n",
        "print(\"O jogo \", jogos[menor[0]], \" recebeu a menor nota, que foi: \", notas[menor[0]])\n",
        "print(\"O jogo \", jogos[maior[0]], \" recebeu a maior nota, que foi: \", notas[maior[0]])\n",
        "print(\"A média das notas foi: \", round(media / len(notas), 2)\n"
      ],
      "metadata": {
        "id": "vxKf-kIpawNR"
      },
      "execution_count": null,
      "outputs": []
    }
  ]
}