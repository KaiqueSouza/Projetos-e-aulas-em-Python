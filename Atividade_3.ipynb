{
  "nbformat": 4,
  "nbformat_minor": 0,
  "metadata": {
    "colab": {
      "provenance": [],
      "authorship_tag": "ABX9TyN70D0SqD41LPzmbCvzw380",
      "include_colab_link": true
    },
    "kernelspec": {
      "name": "python3",
      "display_name": "Python 3"
    },
    "language_info": {
      "name": "python"
    }
  },
  "cells": [
    {
      "cell_type": "markdown",
      "metadata": {
        "id": "view-in-github",
        "colab_type": "text"
      },
      "source": [
        "<a href=\"https://colab.research.google.com/github/KaiqueSouza/Projetos-e-aulas-em-Python/blob/main/Atividade_3.ipynb\" target=\"_parent\"><img src=\"https://colab.research.google.com/assets/colab-badge.svg\" alt=\"Open In Colab\"/></a>"
      ]
    },
    {
      "cell_type": "code",
      "execution_count": 7,
      "metadata": {
        "colab": {
          "base_uri": "https://localhost:8080/"
        },
        "id": "efL6n7nOzOtF",
        "outputId": "6e35636a-f8e6-47c2-923c-c2df79753b79"
      },
      "outputs": [
        {
          "output_type": "stream",
          "name": "stdout",
          "text": [
            "\n",
            " Preço da gasolina atualmente: 4.5\n",
            "\n",
            " Preço da etanol atualmente: 5.2\n",
            "\n",
            " Preço da diesel atualmente: 4.3\n",
            "\n",
            " Preço da gaz atualmente: 3.9\n",
            "Abasteça de gasolina\n"
          ]
        }
      ],
      "source": [
        "gasolina = float(input(\"\\n Preço da gasolina atualmente: \"))\n",
        "etanol = float(input(\"\\n Preço da etanol atualmente: \"))\n",
        "diesel = float(input(\"\\n Preço da diesel atualmente: \"))\n",
        "gaz = float(input(\"\\n Preço da gaz atualmente: \"))\n",
        "\n",
        "if gasolina <= 5:\n",
        "  print(\"\\n Abasteça com gasolina\")\n",
        "elif etanol < gasolina:\n",
        "  print(\"\\n Abasteça com etanol\")\n",
        "elif diesel < gasolina and diesel < etanol:\n",
        "  print(\"\\n Abasteça com diesel\")\n",
        "elif gaz < gasolina and gaz < etanol and gaz ( diesel):\n",
        "  print(\"\\n Abasteça com gaz\")\n",
        "else:\n",
        "  print(\"\\n Vai a pé\")\n",
        "\n",
        "  "
      ]
    }
  ]
}