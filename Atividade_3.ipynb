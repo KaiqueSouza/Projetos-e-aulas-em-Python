{
  "nbformat": 4,
  "nbformat_minor": 0,
  "metadata": {
    "colab": {
      "provenance": [],
      "authorship_tag": "ABX9TyNZjTCa7YQ/ZdOcK9v67FUS",
      "include_colab_link": true
    },
    "kernelspec": {
      "name": "python3",
      "display_name": "Python 3"
    },
    "language_info": {
      "name": "python"
    }
  },
  "cells": [
    {
      "cell_type": "markdown",
      "metadata": {
        "id": "view-in-github",
        "colab_type": "text"
      },
      "source": [
        "<a href=\"https://colab.research.google.com/github/KaiqueSouza/Projetos-e-aulas-em-Python/blob/main/Atividade_3.ipynb\" target=\"_parent\"><img src=\"https://colab.research.google.com/assets/colab-badge.svg\" alt=\"Open In Colab\"/></a>"
      ]
    },
    {
      "cell_type": "code",
      "execution_count": 9,
      "metadata": {
        "colab": {
          "base_uri": "https://localhost:8080/"
        },
        "id": "efL6n7nOzOtF",
        "outputId": "6db16464-12e3-4d05-ae98-b419e31500ea"
      },
      "outputs": [
        {
          "output_type": "stream",
          "name": "stdout",
          "text": [
            "\n",
            " Preço da gasolina atualmente: 5.12\n",
            "\n",
            " Preço da etanol atualmente: 2.90\n",
            "\n",
            " Preço da diesel atualmente: 6.10\n",
            "\n",
            " Preço da gaz atualmente: 10.6\n",
            "\n",
            " Abasteça com etanol\n"
          ]
        }
      ],
      "source": [
        "gasolina = float(input(\"\\n Preço da gasolina atualmente: \"))\n",
        "etanol = float(input(\"\\n Preço da etanol atualmente: \"))\n",
        "diesel = float(input(\"\\n Preço da diesel atualmente: \"))\n",
        "gaz = float(input(\"\\n Preço da gaz atualmente: \"))\n",
        "\n",
        "if gasolina <= 5:\n",
        "  print(\"\\n Abasteça com gasolina\")\n",
        "elif etanol < gasolina:\n",
        "  print(\"\\n Abasteça com etanol\")\n",
        "elif diesel < gasolina and diesel < etanol:\n",
        "  print(\"\\n Abasteça com diesel\")\n",
        "elif gaz < gasolina and gaz < etanol and gaz ( diesel):\n",
        "  print(\"\\n Abasteça com gaz\")\n",
        "else:\n",
        "  print(\"\\n Vai a pé\")\n",
        "\n",
        "  "
      ]
    },
    {
      "cell_type": "code",
      "source": [
        "if float(input(\"\\n Qual o preço da gasolina? \")) <= 5:\n",
        "  print(\"\\n Coloque gasolina \")\n",
        "elif float(input(\"\\n Muito caro, quanto ta o etanol? \")) <= 4:\n",
        "  print(\"\\n Coloque etanol \")\n",
        "else:\n",
        "  print(\"\\n Tudo caro, bota qualquer coisa \")"
      ],
      "metadata": {
        "colab": {
          "base_uri": "https://localhost:8080/"
        },
        "id": "Z1u11F56-Ev0",
        "outputId": "a1f1f732-b04f-4f16-854e-38ce37dc0a3c"
      },
      "execution_count": 13,
      "outputs": [
        {
          "output_type": "stream",
          "name": "stdout",
          "text": [
            "\n",
            " Qual o preço da gasolina? 5.63\n",
            "\n",
            " Muito caro, quanto ta o etanol? 6.10\n",
            "\n",
            " Tudo caro, bota qualquer coisa \n"
          ]
        }
      ]
    }
  ]
}