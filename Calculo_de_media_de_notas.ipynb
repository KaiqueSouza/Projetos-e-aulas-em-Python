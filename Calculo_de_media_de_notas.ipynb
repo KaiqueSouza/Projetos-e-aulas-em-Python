{
  "nbformat": 4,
  "nbformat_minor": 0,
  "metadata": {
    "colab": {
      "provenance": [],
      "authorship_tag": "ABX9TyNE6wgboJ8VxAMubQS0XuzW",
      "include_colab_link": true
    },
    "kernelspec": {
      "name": "python3",
      "display_name": "Python 3"
    },
    "language_info": {
      "name": "python"
    }
  },
  "cells": [
    {
      "cell_type": "markdown",
      "metadata": {
        "id": "view-in-github",
        "colab_type": "text"
      },
      "source": [
        "<a href=\"https://colab.research.google.com/github/KaiqueSouza/Projetos-e-aulas-em-Python/blob/main/Calculo_de_media_de_notas.ipynb\" target=\"_parent\"><img src=\"https://colab.research.google.com/assets/colab-badge.svg\" alt=\"Open In Colab\"/></a>"
      ]
    },
    {
      "cell_type": "code",
      "execution_count": null,
      "metadata": {
        "id": "vAmT4R3sVC86"
      },
      "outputs": [],
      "source": [
        "#ativ anterior\n",
        "\n",
        "import random \n",
        "\n",
        "#consegui fazer sem função\n",
        "numero = random.randint(1, 50) #gera numero aleatorio entre 1 e 50\n",
        "jogadas = 0  #tentativas\n",
        "chute = 0\n",
        "\n",
        "while chute != numero: #enquanto for diferente\n",
        "    chute = int(input(\"Adivinhe o numero: \"))   #config\n",
        "    jogadas = jogadas + 1 \n",
        "\n",
        "    if chute == numero:\n",
        "      print(\"\\n Acertou, numero:\", numero, \"\\n\", \"jogadas:\", jogadas)\n",
        "\n",
        "    elif chute < numero:\n",
        "      print(\"\\n Mais alto\")\n",
        "\n",
        "    else:\n",
        "      print(\"\\n Mais baixo\")"
      ]
    },
    {
      "cell_type": "code",
      "source": [
        "#ativ anterior\n",
        "\n",
        "#calcular media recebendo notas de uma quantidade dada de provas\n",
        "\n",
        "provas = int(input(\"\\n Digite o numero de provas: \"))\n",
        "\n",
        "num = 0 #valor para repedir o loop até alcançar a quantidade de provas\n",
        "todas = 0 \n",
        "\n",
        "print(\"\\n - - - - - - - - - - - - - - -\")\n",
        "\n",
        "while num < provas:\n",
        " num = num + 1 #somando até chegar no numero de provas\n",
        " notas = float(input(\"\\n Digite a nota desta prova: \"))\n",
        " todas = todas + notas #soma a nova nota, armazena em \"todas\" junto com os valores anteriores\n",
        "\n",
        "media1 =  todas / provas #calculo da media\n",
        "print(\"\\n\", media1)\n",
        "\n",
        "print(\"\\n - - - - - - - - - - - - - - -\")\n",
        "\n",
        "if media1 >= 7:\n",
        "  print(\"\\n Aluno Aprovado\")\n",
        "elif media1 > 5 and media1 < 7: #verificar se foi aprovado, recuperação ou reprovado com o valor da media\n",
        "  print(\"\\n Aluno em Recuperação\")\n",
        "else: \n",
        "  print(\"\\n Aluno Reprovado\")"
      ],
      "metadata": {
        "id": "mZBMjULuVR8g"
      },
      "execution_count": null,
      "outputs": []
    },
    {
      "cell_type": "code",
      "source": [
        "#junta os 2\n",
        "\n",
        "import random\n",
        "\n",
        "nome = [\"Joao\", \"Kevin\", \"Aline\", \"Julia\", \"Douglas\", \"Caio\", \"Henrique\", \"Rafael\", \"Leticia\", \"Nathalia\", \"Oswaldo\", \"Jenifer\"]\n",
        "\n",
        "prova = random.randint(1, 10)\n",
        "num = 0\n",
        "todas = 0\n",
        "\n",
        "\n",
        "while num < prova:\n",
        " num = num + 1 \n",
        " nota = random.randint(1, 10)\n",
        "\n",
        " todas = todas + nota\n",
        " media = todas / prova\n",
        " print(\"Nota: \", nota,\"Aluno: \", random.choice(nome)) \n",
        "\n",
        "print(\"\\n provas\",prova,\"soma de notas\", todas)\n",
        "print(\"\\n media:\", round(media))\n",
        "\n",
        "if media >= 7:\n",
        "  print(\"\\n Aluno Aprovado\", \"\", sep='')\n",
        "elif media > 5 and media < 7: \n",
        "  print(\"\\n Aluno em Recuperação\", \"\", sep='')\n",
        "else: \n",
        "  print(\" Aluno Reprovado\", \"\", sep=' ') #sep = '' (separa em numero de casas do sep) # parei de digitar \"\"\n"
      ],
      "metadata": {
        "id": "PLvkz4VvVW5w",
        "colab": {
          "base_uri": "https://localhost:8080/"
        },
        "outputId": "2fb2cd09-3555-4fa2-9381-a7fe59501a17"
      },
      "execution_count": null,
      "outputs": [
        {
          "output_type": "stream",
          "name": "stdout",
          "text": [
            "Nota:  7 Aluno:  Joao\n",
            "Nota:  7 Aluno:  Julia\n",
            "Nota:  1 Aluno:  Nathalia\n",
            "Nota:  5 Aluno:  Caio\n",
            "Nota:  9 Aluno:  Nathalia\n",
            "Nota:  1 Aluno:  Kevin\n",
            "Nota:  8 Aluno:  Douglas\n",
            "\n",
            " provas 7 soma de notas 38\n",
            "\n",
            " media: 5\n",
            "\n",
            " Aluno em Recuperação\n"
          ]
        }
      ]
    }
  ]
}