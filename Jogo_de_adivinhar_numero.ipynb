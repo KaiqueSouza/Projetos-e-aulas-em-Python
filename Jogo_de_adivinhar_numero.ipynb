{
  "nbformat": 4,
  "nbformat_minor": 0,
  "metadata": {
    "colab": {
      "provenance": [],
      "authorship_tag": "ABX9TyPpGHup7CyRwPWniaG+KZ20",
      "include_colab_link": true
    },
    "kernelspec": {
      "name": "python3",
      "display_name": "Python 3"
    },
    "language_info": {
      "name": "python"
    }
  },
  "cells": [
    {
      "cell_type": "markdown",
      "metadata": {
        "id": "view-in-github",
        "colab_type": "text"
      },
      "source": [
        "<a href=\"https://colab.research.google.com/github/KaiqueSouza/Projetos-e-aulas-em-Python/blob/main/Jogo_de_adivinhar_numero.ipynb\" target=\"_parent\"><img src=\"https://colab.research.google.com/assets/colab-badge.svg\" alt=\"Open In Colab\"/></a>"
      ]
    },
    {
      "cell_type": "code",
      "execution_count": null,
      "metadata": {
        "id": "whI6M3wWv0aZ"
      },
      "outputs": [],
      "source": [
        "#gera um numero aleatorio e usuario adivinha\n",
        "\n",
        "''' #ideia utilizando fução\n",
        "from random import randint #achei um gerador de numeros \"aleatorios\", rand int, retorna um int (aleatorio)\n",
        "\n",
        "def numero_aleatorio(): #def é função\n",
        "  aleatorio = randint(1,50) #limita a escolher de 1 a 50\n",
        "\n",
        "  while aleatorio != chute: #enquanto diferente, continua a perguntar\n",
        "  chute = int(input(\"\\n Digite um valor entre 1 e 50: \"))          #trocar função por soma, adicionar o numero de jogadas\n",
        "\n",
        "    if (aleatorio == chute):\n",
        "      print(\"\\n - Acertou - \")\n",
        "      print(\"\\n Numero de jogadas\")\n",
        "\n",
        "    elif chute > aleatorio:\n",
        "     print(\"\\n Tente denovo, numero mais baixo\")\n",
        "\n",
        "    elif chute < aleatorio:\n",
        "     print(\"\\n Tente denovo, numero mais alto\")\n",
        "\n",
        "    else:\n",
        "      print(\"\\n Tente denovo\")\n",
        "\n",
        "numero_aleatorio(jogadas)\n",
        "''' #separados para evitar conflito\n",
        "\n",
        "import random \n",
        "\n",
        "#consegui fazer sem função\n",
        "numero = random.randint(1, 1000) #gera numero aleatorio entre 1 e 50\n",
        "jogadas = 0  #tentativas\n",
        "chute = 0\n",
        "\n",
        "while chute != numero: #enquanto for diferente\n",
        "    chute = int(input(\"Adivinhe o numero: \"))   #config\n",
        "    jogadas = jogadas + 1 \n",
        "\n",
        "    if chute == numero:\n",
        "      print(\"\\n Acertou, numero:\", numero, \"\\n\", \"jogadas:\", jogadas)\n",
        "\n",
        "    elif chute < numero:\n",
        "      print(\"\\n Mais alto\")\n",
        "\n",
        "    else:\n",
        "      print(\"\\n Mais baixo\") #add 2 jogador, armazemento"
      ]
    }
  ]
}