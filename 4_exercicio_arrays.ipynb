{
  "nbformat": 4,
  "nbformat_minor": 0,
  "metadata": {
    "colab": {
      "provenance": [],
      "authorship_tag": "ABX9TyNNPYFWcp22mentuLrF7MMZ",
      "include_colab_link": true
    },
    "kernelspec": {
      "name": "python3",
      "display_name": "Python 3"
    },
    "language_info": {
      "name": "python"
    }
  },
  "cells": [
    {
      "cell_type": "markdown",
      "metadata": {
        "id": "view-in-github",
        "colab_type": "text"
      },
      "source": [
        "<a href=\"https://colab.research.google.com/github/KaiqueSouza/Projetos-e-aulas-em-Python/blob/main/4_exercicio_arrays.ipynb\" target=\"_parent\"><img src=\"https://colab.research.google.com/assets/colab-badge.svg\" alt=\"Open In Colab\"/></a>"
      ]
    },
    {
      "cell_type": "markdown",
      "source": [
        "conhecendo variaveis listas/array, https://www.w3schools.com/python/python_ref_list.asp outros comandos"
      ],
      "metadata": {
        "id": "8N-UewvqNVDf"
      }
    },
    {
      "cell_type": "code",
      "source": [
        "nome1 = \"virginiantonio\"\n",
        "nome2 = \"ricardosvaldo\"\n",
        "nome3 = \"vaniilsonvaldelino\"         #antes \n",
        "nome4 = \"vinivaldo\" \n",
        "\n",
        "print(\"sou\", nome1, \"e sou amigo de\", nome2, nome3, nome4)"
      ],
      "metadata": {
        "colab": {
          "base_uri": "https://localhost:8080/"
        },
        "id": "gj9lV9MbNVL1",
        "outputId": "9fcafef7-682c-4aec-d58f-8da1c9f37d7d"
      },
      "execution_count": null,
      "outputs": [
        {
          "output_type": "stream",
          "name": "stdout",
          "text": [
            "sou  virginiantonio e sou amigo de ricardosvaldo vaniilsonvaldelino vinivaldo\n"
          ]
        }
      ]
    },
    {
      "cell_type": "markdown",
      "source": [
        "Utilizando Array / Lista"
      ],
      "metadata": {
        "id": "3lvS7bQhQN-s"
      }
    },
    {
      "cell_type": "code",
      "source": [
        "elos_cs = [\"prata\", \"Ouro\", \"Ak\", \"Ak-cruzada\", \"Xerife\"]\n",
        "print(elos_cs) #exibindo toda a lista\n",
        "print(elos_cs[0]) #exibindo posição da informação dentro da variavel, 0 1 2 3 4, primeira posição\n",
        "print(elos_cs[-1]) #ultima posição\n",
        "print(elos_cs[0:3]) #alguns da lista do 0 ao 3\n",
        "print(elos_cs[1::3]) #alguns só o 1 e o 3\n",
        "\n",
        "elos_cs.append(\"Global\") #adiciona um valor na lista\n",
        "print(elos_cs)"
      ],
      "metadata": {
        "colab": {
          "base_uri": "https://localhost:8080/"
        },
        "id": "8kfap-NEOdg1",
        "outputId": "f7a683bc-7307-4415-e64c-f5b37429c423"
      },
      "execution_count": null,
      "outputs": [
        {
          "output_type": "stream",
          "name": "stdout",
          "text": [
            "['prata', 'Ouro', 'Ak', 'Ak-cruzada', 'Xerife']\n",
            "prata\n",
            "Xerife\n",
            "['prata', 'Ouro', 'Ak']\n",
            "['Ouro', 'Xerife']\n",
            "['prata', 'Ouro', 'Ak', 'Ak-cruzada', 'Xerife', 'Global']\n"
          ]
        }
      ]
    },
    {
      "cell_type": "code",
      "source": [
        "#nome e idade das pessoas na mesa\n",
        "#lista em ordem de nome e outra de idade\n",
        "\n",
        "lista_nome = ['Pedro','Kaique','Luiz','Murilo','Thauany']\n",
        "lista_idade = ['17','18','19', '19', '24']\n",
        "\n",
        "print(lista_nome)\n",
        "print(lista_idade)\n",
        "\n",
        "print(\"\\n\",lista_nome[0], \"tem\", lista_idade[0], \"anos\")\n",
        "print(\"\",lista_nome[1], \"tem\", lista_idade[1], \"anos\")\n",
        "print(\"\",lista_nome[2], \"tem\", lista_idade[2], \"anos\")\n",
        "print(\"\",lista_nome[3], \"tem\", lista_idade[3], \"anos\")\n",
        "print(\"\",lista_nome[4], \"tem\", lista_idade[4], \"anos\")"
      ],
      "metadata": {
        "colab": {
          "base_uri": "https://localhost:8080/"
        },
        "id": "mZAB_L8oS_3M",
        "outputId": "e7d43dff-2680-4bdd-c622-28d3511dd0a0"
      },
      "execution_count": null,
      "outputs": [
        {
          "output_type": "stream",
          "name": "stdout",
          "text": [
            "['Pedro', 'Kaique', 'Luiz', 'Murilo', 'Thauany']\n",
            "['17', '18', '19', '19', '24']\n",
            "\n",
            " Pedro tem 17 anos\n",
            " Kaique tem 18 anos\n",
            " Luiz tem 19 anos\n",
            " Murilo tem 19 anos\n",
            " Thauany tem 24 anos\n"
          ]
        }
      ]
    },
    {
      "cell_type": "code",
      "source": [
        "numeros_lista = [1,2,3,4,5,6,7,8,9,10] \n",
        "\n",
        "print(\"\\n\",numeros_lista)\n",
        "print(\"\\n\",numeros_lista[-1])\n",
        "print(\"\\n\",numeros_lista[0:2])\n",
        "print(\"\\n\",numeros_lista[0::3])\n",
        "print(\"\\n\",numeros_lista[0::3])\n",
        "\n",
        "print(\"\\n\",numeros_lista * 2) \n",
        "\n",
        "item = int(input(\"adicione outro umero na lista principal\"))\n",
        "\n",
        "numeros_lista.append(item)\n",
        "print(\"\\n\",numeros_lista)\n",
        "\n",
        "numeros_lista.clear() #limpa a lista\n",
        "print(\"\\n\",numeros_lista)\n"
      ],
      "metadata": {
        "id": "cvVLZziQshsN"
      },
      "execution_count": null,
      "outputs": []
    },
    {
      "cell_type": "code",
      "source": [
        "cidades_lista = [\"Campinas\",\"Marilia\",\"Bauru\",\"Fernandopolis\"]\n",
        "print(\"\\n\",cidades_lista)\n",
        "\n",
        "cidade = input(\"\\n Adicione uma cidade: \")\n",
        "cidades_lista.append(cidade) #adiciona um item\n",
        "\n",
        "print(\"\\n\",cidades_lista)\n",
        "print(len(cidades_lista))\n",
        "\n",
        "if len(cidades_lista) >= 5:\n",
        "  print(\"Muitas cidades\")\n",
        "\n",
        "print(cidades_lista.index(\"Marilia\")) #posicao\n",
        "\n",
        "\n"
      ],
      "metadata": {
        "colab": {
          "base_uri": "https://localhost:8080/"
        },
        "id": "tmMw1D85vr5s",
        "outputId": "3a11a450-c797-4419-8567-679abfe420e6"
      },
      "execution_count": null,
      "outputs": [
        {
          "output_type": "stream",
          "name": "stdout",
          "text": [
            "\n",
            " ['Campinas', 'Marilia', 'Bauru', 'Fernandopolis']\n",
            "\n",
            " Adicione uma cidade: Jau\n",
            "\n",
            " ['Campinas', 'Marilia', 'Bauru', 'Fernandopolis', 'Jau']\n",
            "5\n",
            "Muitas cidades\n",
            "1\n"
          ]
        }
      ]
    },
    {
      "cell_type": "code",
      "source": [
        "lista_carrinho = []\n",
        "y = 0\n",
        "\n",
        "x = int(input(\"\\n Quantos itens voce quer adicionar no carrinho: \"))\n",
        "  \n",
        "\n",
        "while y < x:\n",
        "  itens = input(\"\\n Adicione um item: \")\n",
        "  lista_carrinho.append(itens)\n",
        "  x -= 1 #x recebe ele msm menos 1\n",
        "\n",
        "  if len(lista_carrinho) > 5:\n",
        "    print(\"\\n Muitos itens\")\n",
        "\n",
        "print(lista_carrinho)\n"
      ],
      "metadata": {
        "colab": {
          "base_uri": "https://localhost:8080/"
        },
        "id": "5JljnnumxJDd",
        "outputId": "9bdbdca8-02e3-4417-990a-548574b39a50"
      },
      "execution_count": null,
      "outputs": [
        {
          "output_type": "stream",
          "name": "stdout",
          "text": [
            "\n",
            " Quantos itens voce quer adicionar no carrinho: 6\n",
            "\n",
            " Adicione um item: lata1\n",
            "\n",
            " Adicione um item: lata\n",
            "\n",
            " Adicione um item: lata2\n",
            "\n",
            " Adicione um item: lata3\n",
            "\n",
            " Adicione um item: lata5\n",
            "\n",
            " Adicione um item: lata8\n",
            "Muitos itens\n",
            "['lata1', 'lata', 'lata2', 'lata3', 'lata5', 'lata8']\n"
          ]
        }
      ]
    },
    {
      "cell_type": "markdown",
      "source": [
        ".sort = cordenação em uma lista "
      ],
      "metadata": {
        "id": "fQLsBCrazosk"
      }
    },
    {
      "cell_type": "code",
      "source": [
        "#transformando strings em arrays\n",
        "'''\n",
        "frase = \"Im happy, im feeling glad, I got sunshine in my back, and\"\n",
        "lista_frase = frase.split()\n",
        "print(lista_frase)\n",
        "print(len(lista_frase))\n",
        "'''\n",
        "\n",
        "'''\n",
        "path = \"Computador/trabalho/arquivo/trabalho/listas\"\n",
        "print(path.split('/')[0:2])\n",
        "'''\n",
        "\n",
        "frase = input(\"Digite uma frase\")\n",
        "\n",
        "if len(frase.split()) > 15:\n",
        "  print(\"frase muito grande\")\n",
        "else:\n",
        "  print(\"enviado\")"
      ],
      "metadata": {
        "colab": {
          "base_uri": "https://localhost:8080/"
        },
        "id": "yR3A5vwk3bEc",
        "outputId": "d1696e01-4bcb-4ade-bc48-f4b728a09a8e"
      },
      "execution_count": null,
      "outputs": [
        {
          "output_type": "stream",
          "name": "stdout",
          "text": [
            "Digite uma fraseI was an adveturer like you, until I took an arrow in the knee\n",
            "enviado\n"
          ]
        }
      ]
    }
  ]
}