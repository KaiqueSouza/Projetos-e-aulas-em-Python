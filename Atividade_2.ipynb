{
  "nbformat": 4,
  "nbformat_minor": 0,
  "metadata": {
    "colab": {
      "provenance": [],
      "authorship_tag": "ABX9TyOSEmws3LHYOO6y7rd1/d2B",
      "include_colab_link": true
    },
    "kernelspec": {
      "name": "python3",
      "display_name": "Python 3"
    },
    "language_info": {
      "name": "python"
    }
  },
  "cells": [
    {
      "cell_type": "markdown",
      "metadata": {
        "id": "view-in-github",
        "colab_type": "text"
      },
      "source": [
        "<a href=\"https://colab.research.google.com/github/KaiqueSouza/Projetos-e-aulas-em-Python/blob/main/Atividade_2.ipynb\" target=\"_parent\"><img src=\"https://colab.research.google.com/assets/colab-badge.svg\" alt=\"Open In Colab\"/></a>"
      ]
    },
    {
      "cell_type": "code",
      "execution_count": 20,
      "metadata": {
        "colab": {
          "base_uri": "https://localhost:8080/"
        },
        "id": "r2N_OPSoiLmA",
        "outputId": "bd408314-1db1-4493-8966-301db2827371"
      },
      "outputs": [
        {
          "output_type": "stream",
          "name": "stdout",
          "text": [
            "Calculo de IMC\n",
            "\n",
            " Escreva seu nome: Kaique\n",
            "\n",
            " Escreva sua idade: 19\n",
            "\n",
            " Digite sua altura: 1.70\n",
            "\n",
            " Digite sue peso: 100\n",
            "\n",
            " Sua media é: 34.6\n",
            "\n",
            " Kaique você está na categoria: \n",
            " - Proximo a obesidade\n"
          ]
        }
      ],
      "source": [
        "# calcular IMC\n",
        "\n",
        "imc = 0\n",
        "\n",
        "\n",
        "print(\"Calculo de IMC\")\n",
        "nome_usuario = str(input(\"\\n Escreva seu nome: \"))\n",
        "idade_usuario = int(input(\"\\n Escreva sua idade: \"))\n",
        "\n",
        "altura_usuario = float(input(\"\\n Digite sua altura: \"))\n",
        "peso_usuario = float(input(\"\\n Digite sue peso: \"))\n",
        "\n",
        "imc = peso_usuario / altura_usuario**2\n",
        "\n",
        "print(\"\\n Sua media é: {:.1f}\".format(imc))\n",
        "\n",
        "print(\"\\n\",nome_usuario, \"você está na categoria: \" )\n",
        "\n",
        "if imc < 20:\n",
        "  print(\" - Abaixo do peso\")\n",
        "\n",
        "elif imc >= 20 and imc <= 24:\n",
        "  print(\" - Na media\")\n",
        "\n",
        "elif imc > 25 and imc <= 30:\n",
        "  print(\" - Acima do peso\")\n",
        "\n",
        "elif imc >  30:\n",
        "  print(\" - Proximo a obesidade\")\n"
      ]
    }
  ]
}