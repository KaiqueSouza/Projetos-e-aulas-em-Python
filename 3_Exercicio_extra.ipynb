{
  "nbformat": 4,
  "nbformat_minor": 0,
  "metadata": {
    "colab": {
      "provenance": [],
      "authorship_tag": "ABX9TyMBcZKTZpMgOjsaSRMIwyAF",
      "include_colab_link": true
    },
    "kernelspec": {
      "name": "python3",
      "display_name": "Python 3"
    },
    "language_info": {
      "name": "python"
    }
  },
  "cells": [
    {
      "cell_type": "markdown",
      "metadata": {
        "id": "view-in-github",
        "colab_type": "text"
      },
      "source": [
        "<a href=\"https://colab.research.google.com/github/KaiqueSouza/Projetos-e-aulas-em-Python/blob/main/3_Exercicio_extra.ipynb\" target=\"_parent\"><img src=\"https://colab.research.google.com/assets/colab-badge.svg\" alt=\"Open In Colab\"/></a>"
      ]
    },
    {
      "cell_type": "code",
      "execution_count": null,
      "metadata": {
        "id": "IQ-skZckA6bW"
      },
      "outputs": [],
      "source": [
        "#se chovendo pega guarda chuva, se temperatura abaixo da media pega agasalho\n",
        "chovendo = str(input(\"\\n Está chovendo? \"))\n",
        "\n",
        "if int(input(\"\\n Qual a temperatura? \")) <= 20 and chovendo == (\"SIM\" or \"sim\" or \"Sim\"):\n",
        " print(\"\\n Levar agasalho e guarda chuva\")\n",
        "elif chovendo == (\"NAO\" or \"Nao\" or \"nao\"):\n",
        " print(\"\\n Levar agasalho mas não precisa do guarda chuva\")\n",
        "else:\n",
        "  print(\"\\n Não precisa de agasalho e guarda chuva\")\n"
      ]
    }
  ]
}