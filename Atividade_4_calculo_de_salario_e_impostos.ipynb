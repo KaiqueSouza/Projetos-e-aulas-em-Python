{
  "nbformat": 4,
  "nbformat_minor": 0,
  "metadata": {
    "colab": {
      "provenance": [],
      "authorship_tag": "ABX9TyP5MstLNAp69DYCMkkEfmOI",
      "include_colab_link": true
    },
    "kernelspec": {
      "name": "python3",
      "display_name": "Python 3"
    },
    "language_info": {
      "name": "python"
    }
  },
  "cells": [
    {
      "cell_type": "markdown",
      "metadata": {
        "id": "view-in-github",
        "colab_type": "text"
      },
      "source": [
        "<a href=\"https://colab.research.google.com/github/KaiqueSouza/Projetos-e-aulas-em-Python/blob/main/Atividade_4_calculo_de_salario_e_impostos.ipynb\" target=\"_parent\"><img src=\"https://colab.research.google.com/assets/colab-badge.svg\" alt=\"Open In Colab\"/></a>"
      ]
    },
    {
      "cell_type": "code",
      "execution_count": 10,
      "metadata": {
        "colab": {
          "base_uri": "https://localhost:8080/"
        },
        "id": "v3o0M3rH3Wpo",
        "outputId": "a5d2bc4f-2ef1-41eb-8b2b-d3c9dd7ba943"
      },
      "outputs": [
        {
          "output_type": "stream",
          "name": "stdout",
          "text": [
            "\n",
            " Quanto você ganha por hora: 3000\n",
            "\n",
            " Quantas horas por dia você trabalha: 1\n",
            "\n",
            " Quantos dias você trabalha no mes: 1\n",
            "\n",
            " \n",
            " - Resultados - \n",
            "\n",
            " Seu salário bruto é:  3000.0\n",
            "\n",
            " Você paga 450.0 em imposto de renda\n",
            "\n",
            " Você paga 360.0 em INSS\n",
            "\n",
            " Seu salário liquido é:  2190.0\n"
          ]
        }
      ],
      "source": [
        "val_horas3 = float(input(\"\\n Quanto você ganha por hora: \")) \n",
        "horas3 = float(input(\"\\n Quantas horas por dia você trabalha: \")) #buscar dados para gerar o salario bruto \n",
        "dias3 = float(input(\"\\n Quantos dias você trabalha no mes: \"))\n",
        "\n",
        "horas_dia3 = val_horas3 * horas3\n",
        "bruto = horas_dia3 * dias3  #calcular o valor bruto\n",
        "\n",
        "if bruto < 1903: #indetificar por tabela de IR\n",
        " pro_impo = 0\n",
        "elif bruto > 1903 and bruto < 2826 or bruto == 2826:\n",
        " pro_impo = 7.5\n",
        "elif bruto > 2826 and bruto < 3751 or bruto == 3751:\n",
        " pro_impo = 15\n",
        "elif bruto > 3751 and bruto < 4664 or bruto == 4664:\n",
        " pro_impo = 22.5\n",
        "else:\n",
        " pro_impo = 27.5\n",
        "\n",
        "if bruto < 1300: #identificar por tabela de INSS\n",
        "  pro_inss = 7.5\n",
        "elif bruto > 1300 and bruto < 2571 or bruto == 2571:\n",
        "  pro_inss = 9\n",
        "elif bruto > 2571 and bruto < 3856 or bruto == 3856:\n",
        "  pro_inss = 12\n",
        "elif bruto > 3856 and bruto < 7508 or bruto == 7508:\n",
        "  pro_inss = 14\n",
        "else:\n",
        "  pro_inss = 20\n",
        "\n",
        "imposto = (bruto * pro_impo) / 100\n",
        "inss = (bruto * pro_inss) / 100 #aplicar impostos\n",
        "\n",
        "result = inss + imposto\n",
        "liquido = bruto - result #gerar salario liquido (bruto - impostos)\n",
        "\n",
        "print(\"\\n \\n - Resultados - \")\n",
        "print(\"\\n Seu salário bruto é: \", bruto)\n",
        "print(\"\\n Você paga\", imposto,\"em imposto de renda\")\n",
        "print(\"\\n Você paga\", inss, \"em INSS\")\n",
        "print(\"\\n Seu salário liquido é: \", liquido)"
      ]
    }
  ]
}