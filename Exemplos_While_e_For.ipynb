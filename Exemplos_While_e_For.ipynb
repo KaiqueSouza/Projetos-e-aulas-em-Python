{
  "nbformat": 4,
  "nbformat_minor": 0,
  "metadata": {
    "colab": {
      "provenance": [],
      "authorship_tag": "ABX9TyOHNAvfUP3x59D6b1iqYN/d",
      "include_colab_link": true
    },
    "kernelspec": {
      "name": "python3",
      "display_name": "Python 3"
    },
    "language_info": {
      "name": "python"
    }
  },
  "cells": [
    {
      "cell_type": "markdown",
      "metadata": {
        "id": "view-in-github",
        "colab_type": "text"
      },
      "source": [
        "<a href=\"https://colab.research.google.com/github/KaiqueSouza/Projetos-e-aulas-em-Python/blob/main/Exemplos_While_e_For.ipynb\" target=\"_parent\"><img src=\"https://colab.research.google.com/assets/colab-badge.svg\" alt=\"Open In Colab\"/></a>"
      ]
    },
    {
      "cell_type": "markdown",
      "source": [
        "#Exemplos de WHILE:"
      ],
      "metadata": {
        "id": "E6GUx5B1Npvw"
      }
    },
    {
      "cell_type": "markdown",
      "source": [
        "#EX 1:"
      ],
      "metadata": {
        "id": "DtkuoXdrD4ck"
      }
    },
    {
      "cell_type": "code",
      "execution_count": null,
      "metadata": {
        "id": "HqGwGUJPMmvz"
      },
      "outputs": [],
      "source": [
        "#calcular media recebendo notas de uma quantidade dada de provas\n",
        "\n",
        "provas = int(input(\"\\n Digite o numero de provas: \"))\n",
        "\n",
        "num = 0 #valor para repedir o loop até alcançar a quantidade de provas\n",
        "todas = 0 \n",
        "\n",
        "print(\"\\n - - - - - - - - - - - - - - -\")\n",
        "\n",
        "while num < provas:\n",
        " num = num + 1 #somando até chegar no numero de provas\n",
        " notas = float(input(\"\\n Digite a nota desta prova: \"))\n",
        " todas = todas + notas #soma a nova nota, armazena em \"todas\" junto com os valores anteriores\n",
        "\n",
        "media1 =  todas / provas #calculo da media\n",
        "print(\"\\n\", media1)\n",
        "\n",
        "print(\"\\n - - - - - - - - - - - - - - -\")\n",
        "\n",
        "if media1 >= 7:\n",
        "  print(\"\\n Aluno Aprovado\")\n",
        "elif media1 > 5 and media1 < 7: #verificar se foi aprovado, recuperação ou reprovado com o valor da media\n",
        "  print(\"\\n Aluno em Recuperação\")\n",
        "else: \n",
        "  print(\"\\n Aluno Reprovado\")"
      ]
    },
    {
      "cell_type": "markdown",
      "source": [
        "#EX 2:"
      ],
      "metadata": {
        "id": "rjmB3BmkD7mr"
      }
    },
    {
      "cell_type": "code",
      "source": [
        "#calcular o volume aproximado da quantidade de caixas oferecidas\n",
        "\n",
        "quant_caixas = int(input(\"\\n Digite a quatidade de caixas 2x2x2: \"))\n",
        "\n",
        "quant = 0 \n",
        "\n",
        "while quant < quant_caixas:  #verifica se abaixo do numero de caixas dadas\n",
        "  quant = quant + 1 #soma uma unidade até chegar ao numero de caixas\n",
        "  medida = quant_caixas * 2 * 2 * 2 #calcula o volume que ficaram no estoque\n",
        "\n",
        "print(\"\\n As caixa ocuparão um espaco aproximado de:\", medida,\"³\", \"metros cubicos no estoque\")\n",
        "\n"
      ],
      "metadata": {
        "colab": {
          "base_uri": "https://localhost:8080/"
        },
        "id": "Na_GY3AtN4LQ",
        "outputId": "fb727fd6-544e-4f6f-a7e6-d34dc98c8151"
      },
      "execution_count": null,
      "outputs": [
        {
          "output_type": "stream",
          "name": "stdout",
          "text": [
            "\n",
            " Digite a quatidade de caixas 2x2x2: 2\n",
            "\n",
            " As caixa ocuparão um espaco aproximado de: 16 ³ metros cubicos no estoque\n"
          ]
        }
      ]
    },
    {
      "cell_type": "markdown",
      "source": [
        "#EX 3:"
      ],
      "metadata": {
        "id": "hV38-J0yD9pL"
      }
    },
    {
      "cell_type": "code",
      "source": [
        "#Mostrar os numeros ate o valor de x\n",
        "\n",
        "'''\n",
        "x = input(\"Digite o valor de x: \")\n",
        "y = 0\n",
        "\n",
        "while y != x:       #quebra o codigo\n",
        " y = y + 1\n",
        " print(y)\n",
        "'''\n",
        "x = int(input(\"Digite o valor de x: \"))\n",
        "y = 0\n",
        "\n",
        "while y < x:\n",
        " y = y + 1\n",
        " print(y)"
      ],
      "metadata": {
        "id": "eS-DNAUHXaHV"
      },
      "execution_count": null,
      "outputs": []
    },
    {
      "cell_type": "markdown",
      "source": [
        "#Exemplos com FOR:"
      ],
      "metadata": {
        "id": "kol8Xn3jGMDz"
      }
    },
    {
      "cell_type": "markdown",
      "source": [
        "#EX 1:"
      ],
      "metadata": {
        "id": "s0Ia7Qj7GTaS"
      }
    },
    {
      "cell_type": "code",
      "source": [
        "#mostra os numeros apartir de zero até chegar no valor dado\n",
        "\n",
        "num2 = int(input(\"\\n Digite um valor: \")) \n",
        "\n",
        "for x in range(num2): # mostra numero por linha até chegar no numero dado\n",
        "  print(x)\n",
        "else:\n",
        "  print(num2) # so para mostrar o ultimo\n"
      ],
      "metadata": {
        "id": "JHke0__XGoSj"
      },
      "execution_count": null,
      "outputs": []
    },
    {
      "cell_type": "markdown",
      "source": [],
      "metadata": {
        "id": "0nwIJ_9DPbMp"
      }
    },
    {
      "cell_type": "markdown",
      "source": [
        "#EX 2:"
      ],
      "metadata": {
        "id": "XFkug90WJBJK"
      }
    },
    {
      "cell_type": "code",
      "source": [
        "#gera uma combinação de bebidas para cada item de uma lista com a outra\n",
        "\n",
        "alcool = [\"Licor\", \"Ice\", \"Vodka\", \"Whiskey\"]\n",
        "base = [\"com refrigerante\", \"com suco\", \"puro\", \"com energetico\"]     #achei um exemplo parecido no w3school, ainda não entendi muito bem a logica desse\n",
        "\n",
        "\n",
        "for x in alcool: #cada item da lista 1         # primeira lista como base, 1 item com todos da base 2, . . .\n",
        "  for y in base: #cada item da lista 2\n",
        "    print(x, y) #combina os 2, item por item"
      ],
      "metadata": {
        "id": "pBpvCqufJDiK"
      },
      "execution_count": null,
      "outputs": []
    },
    {
      "cell_type": "markdown",
      "source": [
        "#EX 3:"
      ],
      "metadata": {
        "id": "2L0xaVQwJ5Ik"
      }
    },
    {
      "cell_type": "code",
      "source": [
        "#recebe uma palavra e separa ela por linha\n",
        "\n",
        "palavra = str(input(\"\\n Digite uma palavra para separar:\"))\n",
        "\n",
        "for letra in palavra: \n",
        " print(letra)"
      ],
      "metadata": {
        "id": "8aVAQV55PhqB"
      },
      "execution_count": null,
      "outputs": []
    },
    {
      "cell_type": "code",
      "source": [
        "elos = [\"ferro\", \"bronze\", \"prata\", \"ouro\", \"platina\"]\n",
        "\n",
        "for chave, valor in enumerate(elos):\n",
        " print(chave, valor)"
      ],
      "metadata": {
        "id": "a197rvs9RzS6"
      },
      "execution_count": null,
      "outputs": []
    }
  ]
}