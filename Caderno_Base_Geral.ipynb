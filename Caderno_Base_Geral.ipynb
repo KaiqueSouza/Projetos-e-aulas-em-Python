{
  "nbformat": 4,
  "nbformat_minor": 0,
  "metadata": {
    "colab": {
      "provenance": [],
      "authorship_tag": "ABX9TyNZTGmTxF1LkAdHol39Jghx",
      "include_colab_link": true
    },
    "kernelspec": {
      "name": "python3",
      "display_name": "Python 3"
    },
    "language_info": {
      "name": "python"
    }
  },
  "cells": [
    {
      "cell_type": "markdown",
      "metadata": {
        "id": "view-in-github",
        "colab_type": "text"
      },
      "source": [
        "<a href=\"https://colab.research.google.com/github/KaiqueSouza/Projetos-e-aulas-em-Python/blob/main/Caderno_Base_Geral.ipynb\" target=\"_parent\"><img src=\"https://colab.research.google.com/assets/colab-badge.svg\" alt=\"Open In Colab\"/></a>"
      ]
    },
    {
      "cell_type": "markdown",
      "source": [
        "Kaique de Queiroz Souza 1°CC 10/02/2023"
      ],
      "metadata": {
        "id": "YDB20yin6blO"
      }
    },
    {
      "cell_type": "code",
      "source": [
        "nome = \"Will Smith\"\n",
        "idade = 50\n",
        "carreira = \"ator\"\n",
        "networth = 8070.50\n",
        "casado = \"sim\"\n",
        "empresas = 5 \n",
        "nivelHum = 10\n",
        "\n",
        "nome1 = \"Keanu Reeves\"\n",
        "idade1 = 48\n",
        "carreira1 = \"ator\"\n",
        "networth1 = 7100.32\n",
        "casado1 = \"nao\"\n",
        "empresas1 = 7\n",
        "nivelHum1 = 100\n",
        "\n",
        "calcw = 10\n",
        "num = 63\n",
        "somaIdade = idade + idade1\n",
        "difIdade = idade - idade1\n",
        "NETWORTH = networth * networth\n",
        "\n",
        "#base\n",
        "print(\" - o\", carreira, nome1, \"é melhor que o\", carreira, nome, \"em suas profissões\")\n",
        "\n",
        "#calculos fora do print\n",
        "print(\"\\n - o idade dos dois juntos equivale a:\", somaIdade)\n",
        "print(\" - a diferenca entre idade dos dois é:\", difIdade)\n",
        "print(\" - a multiplicação de seus bens é:\", NETWORTH, \"dolares ficticios\")\n",
        "\n",
        "#calculos dentro do print\n",
        "print(\"\\n - possuem aproximadamente\", somaIdade - num,\"anos de carreira\")\n",
        "print(\" - a networth de\", nome1, \"é diferente do\", nome, \"pelo valor de\", networth - networth1)\n",
        " \n",
        "#utilizando if para comparar\n",
        "if empresas > empresas1:\n",
        " print(\"\\n - Will tem mais empresas\")\n",
        "elif empresas1 > empresas:\n",
        " print(\"\\n - Keanu tem mais empresas\")\n",
        "elif empresas == empresas1:\n",
        " print(\"\\n - Possuem a mesma quantidade de empresas\")\n",
        "\n",
        "#diferente\n",
        "print(\"\\n - Keanu é mais humilde que Will\", nivelHum != nivelHum1)\n",
        "\n",
        "#if's else's, elif's\n",
        "if nivelHum >= nivelHum1:\n",
        " print(\"\\n - Will Ganhou\")\n",
        "else:\n",
        " print(\"\\n - Keanu Ganhou\")  \n",
        "\n",
        "#identfica automaticamente por coluna os ifs\n",
        "\n",
        "if idade == idade1:\n",
        "  print(\"\\n - sao da mesma idade\")\n",
        "elif idade > idade1:\n",
        " print(\"\\n - Will e o mais velho\")\n",
        "elif idade < idade1:\n",
        " print(\"\\n - Keanu e o mais velho\")\n"
      ],
      "metadata": {
        "id": "D_3XqJJo6kZX"
      },
      "execution_count": null,
      "outputs": []
    },
    {
      "cell_type": "code",
      "source": [
        "#true e false exemplo\n",
        "umidade = 70\n",
        "\n",
        "if umidade >= 55: \n",
        " chuva = True\n",
        "else:\n",
        "  chuva = False\n",
        "\n",
        "if chuva == True:\n",
        "  print(\"\\n Carona\")\n",
        "else:\n",
        "  print(\"Andar\")\n"
      ],
      "metadata": {
        "id": "A2TWesHYD-9A"
      },
      "execution_count": null,
      "outputs": []
    },
    {
      "cell_type": "code",
      "source": [
        "\n",
        "#teste de input\n",
        "\n",
        "nome_usuario = input(\"\\n Escreva seu nome: \")\n",
        "\n",
        "a = int(input(\" Digite sua idade: \"))\n",
        "\n",
        "if a < idade:\n",
        " print(\"\\n\",nome_usuario,\"é mais novo que\", nome)\n",
        "else:\n",
        "  print(\"\\n\",nome_usuario,\"é mais velho que\", nome)"
      ],
      "metadata": {
        "colab": {
          "base_uri": "https://localhost:8080/"
        },
        "id": "e3Jr0zFDDrQ5",
        "outputId": "0b29b0ab-0746-4835-db4a-a637f86a869e"
      },
      "execution_count": null,
      "outputs": [
        {
          "output_type": "stream",
          "name": "stdout",
          "text": [
            "\n",
            " Escreva seu nome: Kaique\n",
            " Digite sua idade: 19\n",
            "\n",
            " Kaique é mais novo que Will Smith\n"
          ]
        }
      ]
    },
    {
      "cell_type": "code",
      "source": [
        "#comparar int, float, string com if else\n",
        "\n",
        "nome_compara = \"Gabriela\"\n",
        "idade_compara = 18\n",
        "dinheiro_compara = 90.92\n",
        "estudando_compara = False\n",
        "\n",
        "nome_eu = \"Kaique\"\n",
        "idade_eu = 19\n",
        "dinheiro_eu = 110.45\n",
        "estudando_eu = True\n",
        "\n",
        "#nome\n",
        "if nome_eu != nome_compara:\n",
        "  print(\"\\n\",\"Nome diferente\")\n",
        "else: \n",
        "  print(\"\\n\",\"Nome igual\")\n",
        "\n",
        "#idade\n",
        "if idade_eu < idade_compara:\n",
        "  print(\"\\n\",\"Sou mais novo\")\n",
        "elif idade_eu > idade_compara:\n",
        "  print(\"\\n\",\"Sou mais velho\")\n",
        "else:\n",
        "  print(\"\\n\",\"mesma idade\")\n",
        "\n",
        "#dinheiro\n",
        "if dinheiro_eu >= dinheiro_compara:\n",
        "  print(\"\\n\",\"Somos ricos\")\n",
        "else:\n",
        "  print(\"\\n\",\"Somos pobres\")\n",
        "\n",
        "#estudando\n",
        "if estudando_eu and estudando_compara:\n",
        "  print(\"\\n\",\"Os dois estudam\")\n",
        "elif estudando_compara:\n",
        "  print(\"\\n\",nome_compara, \"estuda\")\n",
        "elif estudando_eu:\n",
        "  print(\"\\n\",nome_eu, \"estuda\" )\n",
        "else:\n",
        "  print(\"\\n\",\"Trabalham\")"
      ],
      "metadata": {
        "colab": {
          "base_uri": "https://localhost:8080/"
        },
        "id": "iDEKdCxFExtJ",
        "outputId": "c3f49c74-c8f4-4456-ef25-f22121346b66"
      },
      "execution_count": null,
      "outputs": [
        {
          "output_type": "stream",
          "name": "stdout",
          "text": [
            "\n",
            " Nome diferente\n",
            "\n",
            " Sou mais velho\n",
            "\n",
            " Somos ricos\n",
            "\n",
            " Kaique estuda\n"
          ]
        }
      ]
    },
    {
      "cell_type": "code",
      "source": [],
      "metadata": {
        "colab": {
          "base_uri": "https://localhost:8080/"
        },
        "id": "CTEpFgBvkcuu",
        "outputId": "736d62f9-692e-442b-a6bf-e1831b9ddc9d"
      },
      "execution_count": null,
      "outputs": [
        {
          "output_type": "stream",
          "name": "stdout",
          "text": [
            "\n",
            " Escreva seu nome: kaiq\n",
            " Digite sua idade: 12\n",
            "\n",
            " kaiq é mais novo que will\n"
          ]
        }
      ]
    }
  ]
}