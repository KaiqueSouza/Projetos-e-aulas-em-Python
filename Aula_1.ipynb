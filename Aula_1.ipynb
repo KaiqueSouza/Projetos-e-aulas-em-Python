{
  "nbformat": 4,
  "nbformat_minor": 0,
  "metadata": {
    "colab": {
      "provenance": [],
      "authorship_tag": "ABX9TyMvsgO5bAxYGBc+g9WyqyzI",
      "include_colab_link": true
    },
    "kernelspec": {
      "name": "python3",
      "display_name": "Python 3"
    },
    "language_info": {
      "name": "python"
    }
  },
  "cells": [
    {
      "cell_type": "markdown",
      "metadata": {
        "id": "view-in-github",
        "colab_type": "text"
      },
      "source": [
        "<a href=\"https://colab.research.google.com/github/KaiqueSouza/Projetos-e-aulas-em-Python/blob/main/Aula_1.ipynb\" target=\"_parent\"><img src=\"https://colab.research.google.com/assets/colab-badge.svg\" alt=\"Open In Colab\"/></a>"
      ]
    },
    {
      "cell_type": "markdown",
      "source": [
        "O comando \"print\" serve para imprimir determinado valor, estando dentro de uma variavel ou não.\n",
        "\n",
        "Atribuindo valor String para a variável nome.\n",
        "\n",
        "Print necessita de uma entrada/input (variavel) e sua saida/output sera o valor daquela variavel."
      ],
      "metadata": {
        "id": "7OUXWIaT_0b0"
      }
    },
    {
      "cell_type": "code",
      "execution_count": null,
      "metadata": {
        "colab": {
          "base_uri": "https://localhost:8080/"
        },
        "id": "Tm5Hkrbf_aBk",
        "outputId": "2b43b66f-ebf2-4ef6-8b80-0a7b65ed2243"
      },
      "outputs": [
        {
          "output_type": "stream",
          "name": "stdout",
          "text": [
            "kaique 19 1000.1\n"
          ]
        }
      ],
      "source": [
        "nome =\"kaique\"\n",
        "idade = 19\n",
        "valor = 1000.10\n",
        "\n",
        "print(nome, idade, valor) #atribuindo valor Int a variavel idade"
      ]
    },
    {
      "cell_type": "code",
      "source": [
        "valor1 = 10\n",
        "valor2 = 20\n",
        "\n",
        "print(valor1)\n",
        "print(valor2) \n",
        "\n",
        "valorSoma = valor1 + valor2  #soma\n",
        "print(valorSoma)"
      ],
      "metadata": {
        "colab": {
          "base_uri": "https://localhost:8080/"
        },
        "id": "qEDRLPueBdgH",
        "outputId": "0b118964-1a2c-49c7-fb51-88e04ba0c9ef"
      },
      "execution_count": null,
      "outputs": [
        {
          "output_type": "stream",
          "name": "stdout",
          "text": [
            "10\n",
            "20\n",
            "30\n"
          ]
        }
      ]
    },
    {
      "cell_type": "code",
      "source": [
        "valorSub = valor2 - valor1 #subtracao\n",
        "print(valorSub)"
      ],
      "metadata": {
        "colab": {
          "base_uri": "https://localhost:8080/"
        },
        "id": "0D_FxyDvCWGN",
        "outputId": "bc3bbd4b-8572-41bd-ec14-7dcd7d5bd567"
      },
      "execution_count": null,
      "outputs": [
        {
          "output_type": "stream",
          "name": "stdout",
          "text": [
            "10\n"
          ]
        }
      ]
    },
    {
      "cell_type": "code",
      "source": [
        "#soma com float e multiplicacao\n",
        "\n",
        "valorf1 = 19.6\n",
        "valorf2 = 15.9\n",
        "\n",
        "somafloat = valorf1 + valorf2\n",
        "\n",
        "valormulti1 = 2\n",
        "valormulti2 = 5\n",
        "\n",
        "somamulti = valormulti1 * valormulti2\n",
        "\n",
        "\n",
        "print(somamulti,\"e\", somafloat)"
      ],
      "metadata": {
        "colab": {
          "base_uri": "https://localhost:8080/"
        },
        "id": "reMn6BLn67C5",
        "outputId": "6f481d54-5f0f-40f9-a061-3f1a85d84568"
      },
      "execution_count": null,
      "outputs": [
        {
          "output_type": "stream",
          "name": "stdout",
          "text": [
            "10 e 35.5\n"
          ]
        }
      ]
    },
    {
      "cell_type": "code",
      "source": [
        "from re import X\n",
        "x = 0\n",
        "while x < 10:\n",
        "    print(x)\n",
        "    x += 1\n",
        "    if x == 10:\n",
        "        print(X)\n",
        "        break\n"
      ],
      "metadata": {
        "colab": {
          "base_uri": "https://localhost:8080/"
        },
        "id": "T8pYjlyf868A",
        "outputId": "2761bc20-3796-4d81-cd33-d48a82fc00dc"
      },
      "execution_count": null,
      "outputs": [
        {
          "output_type": "stream",
          "name": "stdout",
          "text": [
            "0\n",
            "1\n",
            "2\n",
            "3\n",
            "4\n",
            "5\n",
            "6\n",
            "7\n",
            "8\n",
            "9\n",
            "re.VERBOSE\n"
          ]
        }
      ]
    },
    {
      "cell_type": "markdown",
      "source": [
        "esse sou eu 👍\n"
      ],
      "metadata": {
        "id": "aApjFghk9tz7"
      }
    },
    {
      "cell_type": "code",
      "source": [
        "nome = \"Kaique Queiroz\"\n",
        "idade = 19\n",
        "dtnasc = \"21/08/2003\"\n",
        "email = \"kaiqueluck2003@gmail.com\"\n",
        "curso = \"ciencia da computacao\"\n",
        "\n"
      ],
      "metadata": {
        "id": "oNWYoJTx94UA"
      },
      "execution_count": null,
      "outputs": []
    },
    {
      "cell_type": "code",
      "source": [
        "print(\"meu dados:\", \"\\n nome:\", nome, \"\\n idade:\", idade, \"\\n nascimento:\", dtnasc, \"\\n email:\", email, \"\\n curso:\", curso)"
      ],
      "metadata": {
        "colab": {
          "base_uri": "https://localhost:8080/"
        },
        "id": "nbuNhrVV_ghR",
        "outputId": "5d10ce70-23fd-4972-a691-1dcf99c6feea"
      },
      "execution_count": null,
      "outputs": [
        {
          "output_type": "stream",
          "name": "stdout",
          "text": [
            "meu dados: \n",
            " nome: Kaique Queiroz \n",
            " idade: 19 \n",
            " nascimento: 21/08/2003 \n",
            " email: kaiqueluck2003@gmail.com \n",
            " curso: ciencia da computacao\n"
          ]
        }
      ]
    },
    {
      "cell_type": "markdown",
      "source": [
        "boolean = true ou false (verdeiro e falso, confirmacao)"
      ],
      "metadata": {
        "id": "zITFB5CDCnHN"
      }
    },
    {
      "cell_type": "code",
      "source": [
        "print(\"\",10 >= 2,\"\\n\", 2 >= 10) #ou so direto o menor/maior ou igual\n",
        "print(\"\")\n",
        "print(\"\",\"henrique\" == \"henrique\")\n",
        "print(\"\")\n",
        "print(\"\",10 != 5)"
      ],
      "metadata": {
        "colab": {
          "base_uri": "https://localhost:8080/"
        },
        "id": "z4zv3OSWCuqF",
        "outputId": "095c5a55-192f-4d15-f041-9448d864e80c"
      },
      "execution_count": null,
      "outputs": [
        {
          "output_type": "stream",
          "name": "stdout",
          "text": [
            " True \n",
            " False\n",
            "\n",
            " True\n",
            "\n",
            " True\n"
          ]
        }
      ]
    },
    {
      "cell_type": "code",
      "source": [
        "nomeLista1 = \"Kelvin\"\n",
        "nomeLista2 = \"kleverson\"\n",
        "\n",
        "print(nomeLista1 != nomeLista2)\n",
        "\n",
        "nomeCli = input(\"Escreva seu nome: \" )\n",
        "print(nomeLista1 == nomeCli) #um resultado unico\n",
        "\n",
        "idadeCli = input( \"idade: \")\n",
        "print(idadeCli)\n"
      ],
      "metadata": {
        "colab": {
          "base_uri": "https://localhost:8080/"
        },
        "id": "F6ZkUE7MFl47",
        "outputId": "9797aafd-9082-4756-ad16-63e20f502a58"
      },
      "execution_count": null,
      "outputs": [
        {
          "output_type": "stream",
          "name": "stdout",
          "text": [
            "True\n",
            "Escreva seu nome: hh\n",
            "False\n",
            "idade: 20\n",
            "20\n"
          ]
        }
      ]
    },
    {
      "cell_type": "code",
      "source": [
        "xx = 0\n",
        "aa = 0\n",
        "jj = 0\n",
        "\n",
        "xx = input(\"primeiro numero para soma\")\n",
        "aa = input(\"segundo numero\")\n",
        "\n",
        "jj = xx + aa \n",
        "\n",
        "print(jj)"
      ],
      "metadata": {
        "colab": {
          "base_uri": "https://localhost:8080/"
        },
        "id": "Ag76vBghIuBh",
        "outputId": "babaf755-7eab-45f6-8968-f9ea72703c5a"
      },
      "execution_count": null,
      "outputs": [
        {
          "output_type": "stream",
          "name": "stdout",
          "text": [
            "primeiro numero para soma10\n",
            "segundo numero20\n",
            "1020\n"
          ]
        }
      ]
    }
  ]
}